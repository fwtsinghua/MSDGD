{
 "cells": [
  {
   "cell_type": "markdown",
   "id": "cc0e123040afb248",
   "metadata": {},
   "source": [
    "# Evaluate the Generated Data\n"
   ]
  },
  {
   "cell_type": "code",
   "execution_count": 12,
   "id": "7d07828e-53d9-4ed5-8981-ebd5fc493bb1",
   "metadata": {},
   "outputs": [],
   "source": [
    "# Set CUDA Device Before Operations: Make sure that you set the CUDA device before performing any operations that would require GPU computation.\n",
    "\n",
    "import torch\n",
    "device = torch.device(\"cuda:0\" if torch.cuda.is_available() else \"cpu\")\n",
    "\n",
    "# Initialize CUDA Context: If you're using an environment where the CUDA context might \n",
    "# not be automatically initialized (like in some Jupyter notebook configurations), \n",
    "# you can manually initialize it by running a simple CUDA operation before your main computations:\n",
    "\n",
    "if torch.cuda.is_available():\n",
    "    _ = torch.rand(1, device='cuda')"
   ]
  },
  {
   "cell_type": "markdown",
   "id": "b5c7acaa-b0c7-4b77-9b71-8272aa910d70",
   "metadata": {},
   "source": [
    "1. 读取表格数据"
   ]
  },
  {
   "cell_type": "code",
   "execution_count": 1,
   "id": "870fa0465fa56fe7",
   "metadata": {
    "jupyter": {
     "is_executing": true
    }
   },
   "outputs": [
    {
     "data": {
      "text/html": [
       "<div>\n",
       "<style scoped>\n",
       "    .dataframe tbody tr th:only-of-type {\n",
       "        vertical-align: middle;\n",
       "    }\n",
       "\n",
       "    .dataframe tbody tr th {\n",
       "        vertical-align: top;\n",
       "    }\n",
       "\n",
       "    .dataframe thead th {\n",
       "        text-align: right;\n",
       "    }\n",
       "</style>\n",
       "<table border=\"1\" class=\"dataframe\">\n",
       "  <thead>\n",
       "    <tr style=\"text-align: right;\">\n",
       "      <th></th>\n",
       "      <th>Time Interval 1</th>\n",
       "      <th>Time Interval 2</th>\n",
       "      <th>Time Interval 3</th>\n",
       "      <th>Time Interval 4</th>\n",
       "      <th>Time Interval 5</th>\n",
       "      <th>Time Interval 6</th>\n",
       "      <th>Time Interval 7</th>\n",
       "      <th>Time Interval 8</th>\n",
       "      <th>Time Interval 9</th>\n",
       "      <th>Time Interval 10</th>\n",
       "      <th>...</th>\n",
       "      <th>Time Interval 41</th>\n",
       "      <th>Time Interval 42</th>\n",
       "      <th>Time Interval 43</th>\n",
       "      <th>Time Interval 44</th>\n",
       "      <th>Time Interval 45</th>\n",
       "      <th>Time Interval 46</th>\n",
       "      <th>Time Interval 47</th>\n",
       "      <th>Time Interval 48</th>\n",
       "      <th>Time Interval 49</th>\n",
       "      <th>Time Interval 50</th>\n",
       "    </tr>\n",
       "  </thead>\n",
       "  <tbody>\n",
       "    <tr>\n",
       "      <th>0</th>\n",
       "      <td>0.000000</td>\n",
       "      <td>0.000000</td>\n",
       "      <td>1.516667</td>\n",
       "      <td>0.000000</td>\n",
       "      <td>0.0</td>\n",
       "      <td>3.316667</td>\n",
       "      <td>0.000000</td>\n",
       "      <td>0.000000</td>\n",
       "      <td>0.000000</td>\n",
       "      <td>0.133333</td>\n",
       "      <td>...</td>\n",
       "      <td>2.616667</td>\n",
       "      <td>0.000000</td>\n",
       "      <td>0.000000</td>\n",
       "      <td>1.250000</td>\n",
       "      <td>0.000000</td>\n",
       "      <td>0.866667</td>\n",
       "      <td>0.000000</td>\n",
       "      <td>0.000000</td>\n",
       "      <td>0.583333</td>\n",
       "      <td>0.000000</td>\n",
       "    </tr>\n",
       "    <tr>\n",
       "      <th>1</th>\n",
       "      <td>3.050000</td>\n",
       "      <td>0.783333</td>\n",
       "      <td>1.066667</td>\n",
       "      <td>0.000000</td>\n",
       "      <td>0.0</td>\n",
       "      <td>2.816667</td>\n",
       "      <td>0.000000</td>\n",
       "      <td>12.766667</td>\n",
       "      <td>0.016667</td>\n",
       "      <td>1.316667</td>\n",
       "      <td>...</td>\n",
       "      <td>0.000000</td>\n",
       "      <td>0.816667</td>\n",
       "      <td>0.000000</td>\n",
       "      <td>0.000000</td>\n",
       "      <td>3.750000</td>\n",
       "      <td>1.116667</td>\n",
       "      <td>0.000000</td>\n",
       "      <td>0.000000</td>\n",
       "      <td>0.000000</td>\n",
       "      <td>0.000000</td>\n",
       "    </tr>\n",
       "    <tr>\n",
       "      <th>2</th>\n",
       "      <td>6.966667</td>\n",
       "      <td>0.000000</td>\n",
       "      <td>1.866667</td>\n",
       "      <td>0.000000</td>\n",
       "      <td>0.0</td>\n",
       "      <td>7.133333</td>\n",
       "      <td>2.166667</td>\n",
       "      <td>0.000000</td>\n",
       "      <td>10.816667</td>\n",
       "      <td>0.000000</td>\n",
       "      <td>...</td>\n",
       "      <td>9.233333</td>\n",
       "      <td>0.000000</td>\n",
       "      <td>0.000000</td>\n",
       "      <td>7.166667</td>\n",
       "      <td>6.266667</td>\n",
       "      <td>0.000000</td>\n",
       "      <td>1.616667</td>\n",
       "      <td>0.000000</td>\n",
       "      <td>2.516667</td>\n",
       "      <td>0.000000</td>\n",
       "    </tr>\n",
       "    <tr>\n",
       "      <th>3</th>\n",
       "      <td>13.216667</td>\n",
       "      <td>4.450000</td>\n",
       "      <td>5.466667</td>\n",
       "      <td>1.233333</td>\n",
       "      <td>0.0</td>\n",
       "      <td>9.800000</td>\n",
       "      <td>18.150000</td>\n",
       "      <td>0.000000</td>\n",
       "      <td>1.100000</td>\n",
       "      <td>0.000000</td>\n",
       "      <td>...</td>\n",
       "      <td>3.566667</td>\n",
       "      <td>0.000000</td>\n",
       "      <td>12.483333</td>\n",
       "      <td>0.000000</td>\n",
       "      <td>0.000000</td>\n",
       "      <td>6.183333</td>\n",
       "      <td>0.000000</td>\n",
       "      <td>3.900000</td>\n",
       "      <td>3.283333</td>\n",
       "      <td>0.000000</td>\n",
       "    </tr>\n",
       "    <tr>\n",
       "      <th>4</th>\n",
       "      <td>11.650000</td>\n",
       "      <td>0.000000</td>\n",
       "      <td>6.566667</td>\n",
       "      <td>0.583333</td>\n",
       "      <td>0.0</td>\n",
       "      <td>3.033333</td>\n",
       "      <td>0.000000</td>\n",
       "      <td>4.200000</td>\n",
       "      <td>0.000000</td>\n",
       "      <td>1.300000</td>\n",
       "      <td>...</td>\n",
       "      <td>11.000000</td>\n",
       "      <td>0.000000</td>\n",
       "      <td>0.000000</td>\n",
       "      <td>1.400000</td>\n",
       "      <td>0.000000</td>\n",
       "      <td>4.916667</td>\n",
       "      <td>0.000000</td>\n",
       "      <td>3.416667</td>\n",
       "      <td>0.000000</td>\n",
       "      <td>1.283333</td>\n",
       "    </tr>\n",
       "  </tbody>\n",
       "</table>\n",
       "<p>5 rows × 50 columns</p>\n",
       "</div>"
      ],
      "text/plain": [
       "   Time Interval 1  Time Interval 2  Time Interval 3  Time Interval 4  \\\n",
       "0         0.000000         0.000000         1.516667         0.000000   \n",
       "1         3.050000         0.783333         1.066667         0.000000   \n",
       "2         6.966667         0.000000         1.866667         0.000000   \n",
       "3        13.216667         4.450000         5.466667         1.233333   \n",
       "4        11.650000         0.000000         6.566667         0.583333   \n",
       "\n",
       "   Time Interval 5  Time Interval 6  Time Interval 7  Time Interval 8  \\\n",
       "0              0.0         3.316667         0.000000         0.000000   \n",
       "1              0.0         2.816667         0.000000        12.766667   \n",
       "2              0.0         7.133333         2.166667         0.000000   \n",
       "3              0.0         9.800000        18.150000         0.000000   \n",
       "4              0.0         3.033333         0.000000         4.200000   \n",
       "\n",
       "   Time Interval 9  Time Interval 10  ...  Time Interval 41  Time Interval 42  \\\n",
       "0         0.000000          0.133333  ...          2.616667          0.000000   \n",
       "1         0.016667          1.316667  ...          0.000000          0.816667   \n",
       "2        10.816667          0.000000  ...          9.233333          0.000000   \n",
       "3         1.100000          0.000000  ...          3.566667          0.000000   \n",
       "4         0.000000          1.300000  ...         11.000000          0.000000   \n",
       "\n",
       "   Time Interval 43  Time Interval 44  Time Interval 45  Time Interval 46  \\\n",
       "0          0.000000          1.250000          0.000000          0.866667   \n",
       "1          0.000000          0.000000          3.750000          1.116667   \n",
       "2          0.000000          7.166667          6.266667          0.000000   \n",
       "3         12.483333          0.000000          0.000000          6.183333   \n",
       "4          0.000000          1.400000          0.000000          4.916667   \n",
       "\n",
       "   Time Interval 47  Time Interval 48  Time Interval 49  Time Interval 50  \n",
       "0          0.000000          0.000000          0.583333          0.000000  \n",
       "1          0.000000          0.000000          0.000000          0.000000  \n",
       "2          1.616667          0.000000          2.516667          0.000000  \n",
       "3          0.000000          3.900000          3.283333          0.000000  \n",
       "4          0.000000          3.416667          0.000000          1.283333  \n",
       "\n",
       "[5 rows x 50 columns]"
      ]
     },
     "execution_count": 1,
     "metadata": {},
     "output_type": "execute_result"
    }
   ],
   "source": [
    "# -- coding: utf-8 --\n",
    "# import synthetic data vault libraries\n",
    "# !pip install sdv\n",
    "import os\n",
    "import pandas as pd\n",
    "data_pd = pd.read_csv('Emergency_CallCenter.csv')\n",
    "data_pd.head()"
   ]
  },
  {
   "cell_type": "markdown",
   "id": "5c8c9ffe-6bdc-4a77-ab77-7281b9abbb83",
   "metadata": {},
   "source": [
    "2. 定义评价指标方法：Column Shapes（FC） 和 Column Pair Trends（FR）"
   ]
  },
  {
   "cell_type": "code",
   "execution_count": 2,
   "id": "a4cdbc60a2c17919",
   "metadata": {},
   "outputs": [
    {
     "name": "stdout",
     "output_type": "stream",
     "text": [
      "Writing SVDevaluation.py\n"
     ]
    }
   ],
   "source": [
    "%%writefile SVDevaluation.py\n",
    "import pandas as pd\n",
    "import sdv.evaluation.single_table as sdv_st\n",
    "from sdv.metadata import SingleTableMetadata\n",
    "\n",
    "\n",
    "def svd_evaluation(real_data, synthetic_data, savepath, show=False):\n",
    "    # svd evaluation\n",
    "    metadata = SingleTableMetadata()  # build a metadata for evaluation (from SDV)\n",
    "    metadata.detect_from_dataframe(data=real_data)\n",
    "    quality_report = sdv_st.evaluate_quality(  # generate quality report\n",
    "        real_data,\n",
    "        synthetic_data,\n",
    "        metadata=metadata\n",
    "    )\n",
    "    print(quality_report)  # print quality report\n",
    "\n",
    "    properties_dataframe = quality_report.get_properties()\n",
    "    Column_Shapes = properties_dataframe.iloc[0, 1]\n",
    "    Column_Pair_Trends = properties_dataframe.iloc[1, 1]\n",
    "    print('Column Shapes:', Column_Shapes)\n",
    "    print('Column Pair Trends:', Column_Pair_Trends)\n",
    "    properties_dataframe.to_csv(savepath + '_properties_dataframe.csv', index=False)\n",
    "\n",
    "    if show:\n",
    "        # plot Column Shapes -> referred to the \"Fidelity Column\" in the paper\n",
    "        fig = quality_report.get_visualization(property_name='Column Shapes')\n",
    "        fig.write_html(savepath + '_Column_Shapes.html')\n",
    "        fig.show()\n",
    "        # plot Column Pair Trends -> referred to the \"Fidelity Row\" in the paper\n",
    "        fig = quality_report.get_visualization(property_name='Column Pair Trends')\n",
    "        fig.write_html(savepath + '_Column_Pair_Trends.html')\n",
    "        fig.show()\n",
    "    return Column_Shapes, Column_Pair_Trends\n",
    "\n",
    "\n",
    "if __name__ == '__main__':\n",
    "    # 假设我们有一些示例的真实数据和合成数据\n",
    "    # 这里我们只是简单地创建两个包含随机数的DataFrame作为示例\n",
    "    real_data = pd.DataFrame({\n",
    "        'A': [1, 2, 3, 4, 5],\n",
    "        'B': [5, 4, 3, 2, 1],\n",
    "        'C': [2, 3, 4, 5, 6]\n",
    "    })\n",
    "\n",
    "    synthetic_data = pd.DataFrame({\n",
    "        'A': [1.1, 1.9, 2.8, 4.5, 4.9],\n",
    "        'B': [5.2, 4.3, 3.4, 2.5, 1.7],\n",
    "        'C': [2.1, 3.4, 4.5, 5.6, 6.7]\n",
    "    })\n",
    "\n",
    "    # 定义一个保存路径\n",
    "    savepath = \"./\"\n",
    "\n",
    "    # 调用 svd_evaluation 函数\n",
    "    svd_evaluation(real_data, synthetic_data, savepath)\n"
   ]
  },
  {
   "cell_type": "markdown",
   "id": "24174c0b-ddd3-4616-a46d-b3f3463412d6",
   "metadata": {},
   "source": [
    "3. Auto detect metadata 获取输入表格数据的列类型和特征\n",
    "\n",
    "This is an example of a JSON file describing a single table.\n",
    "\n",
    "参考：\n",
    "- https://docs.sdv.dev/sdv/single-table-data/data-preparation/single-table-metadata-api\n",
    "- https://docs.sdv.dev/sdv/reference/metadata-spec/single-table-metadata-json"
   ]
  },
  {
   "cell_type": "markdown",
   "id": "03111856-2b52-476d-86d2-51730daa29a9",
   "metadata": {},
   "source": [
    "可视化报错：failed to execute WindowsPath(‘dot‘), make sure the Graphviz executables are on\n",
    "解决：\n",
    "\n",
    "1. 先卸载　pip uninstall graphviz\n",
    "2. 安装windows版的 https://graphviz.org/，勾选系统路径，安装到C:\\Users\\x\\anaconda3\\Lib\\site-packages\\Graphviz\n",
    "3. 最后安装 pip install graphviz\n",
    "\n",
    "参考：\n",
    "- https://blog.csdn.net/gj18405655459/article/details/123234866\n",
    "- https://blog.csdn.net/m0_52118763/article/details/119919644"
   ]
  },
  {
   "cell_type": "code",
   "execution_count": 8,
   "id": "b10bf83511d5f0a",
   "metadata": {},
   "outputs": [
    {
     "data": {
      "image/svg+xml": [
       "<?xml version=\"1.0\" encoding=\"UTF-8\" standalone=\"no\"?>\n",
       "<!DOCTYPE svg PUBLIC \"-//W3C//DTD SVG 1.1//EN\"\n",
       " \"http://www.w3.org/Graphics/SVG/1.1/DTD/svg11.dtd\">\n",
       "<!-- Generated by graphviz version 11.0.0 (20240428.1522)\n",
       " -->\n",
       "<!-- Title: Metadata Pages: 1 -->\n",
       "<svg width=\"125pt\" height=\"49pt\"\n",
       " viewBox=\"0.00 0.00 125.25 48.50\" xmlns=\"http://www.w3.org/2000/svg\" xmlns:xlink=\"http://www.w3.org/1999/xlink\">\n",
       "<g id=\"graph0\" class=\"graph\" transform=\"scale(1 1) rotate(0) translate(4 44.5)\">\n",
       "<title>Metadata</title>\n",
       "<polygon fill=\"white\" stroke=\"none\" points=\"-4,4 -4,-44.5 121.25,-44.5 121.25,4 -4,4\"/>\n",
       "<g id=\"node1\" class=\"node\">\n",
       "<title></title>\n",
       "<path fill=\"#ffec8b\" stroke=\"black\" d=\"M12,-0.5C12,-0.5 105.25,-0.5 105.25,-0.5 111.25,-0.5 117.25,-6.5 117.25,-12.5 117.25,-12.5 117.25,-28 117.25,-28 117.25,-34 111.25,-40 105.25,-40 105.25,-40 12,-40 12,-40 6,-40 0,-34 0,-28 0,-28 0,-12.5 0,-12.5 0,-6.5 6,-0.5 12,-0.5\"/>\n",
       "<text text-anchor=\"start\" x=\"8\" y=\"-22.7\" font-family=\"Times New Roman,serif\" font-size=\"14.00\">Columns</text>\n",
       "<text text-anchor=\"start\" x=\"8\" y=\"-6.95\" font-family=\"Times New Roman,serif\" font-size=\"14.00\">    • numerical : 50</text>\n",
       "</g>\n",
       "</g>\n",
       "</svg>\n"
      ],
      "text/plain": [
       "<graphviz.graphs.Digraph at 0x16efdbd6110>"
      ]
     },
     "execution_count": 8,
     "metadata": {},
     "output_type": "execute_result"
    }
   ],
   "source": [
    "from sdv.metadata import SingleTableMetadata\n",
    "\n",
    "# build a metadata for evaluation (from SDV)\n",
    "metadata = SingleTableMetadata()\n",
    "metadata.detect_from_dataframe(data_pd)\n",
    "python_dict = metadata.to_dict()\n",
    "metadata.visualize(\n",
    "    show_table_details='full',\n",
    "    output_filepath='my_metadata_full.png'\n",
    ")\n",
    "metadata.visualize(\n",
    "    show_table_details='summarized',\n",
    "    output_filepath='my_metadata_summarized.png'\n",
    ")"
   ]
  },
  {
   "cell_type": "markdown",
   "id": "4c6526e3-c510-488e-a4f3-4742122e566b",
   "metadata": {},
   "source": [
    "4. 使用特定合成器，合成新的数据"
   ]
  },
  {
   "cell_type": "code",
   "execution_count": 9,
   "id": "8fee60831fc2b685",
   "metadata": {},
   "outputs": [],
   "source": [
    "metadata.save_to_json(filepath='my_metadata_v1.json')\n",
    "\n",
    "#-----------------------------------------------Gaussian Copula Synthesizer------------------------------------------------------------#\n",
    "result_path = 'Gaussian/'\n",
    "os.makedirs(result_path, exist_ok=True)\n",
    "\n",
    "\n",
    "from sdv.single_table import GaussianCopulaSynthesizer\n",
    "synthesizer = GaussianCopulaSynthesizer(metadata)\n",
    "synthesizer.fit(data_pd)\n",
    "synthetic_data = synthesizer.sample(num_rows=data_pd.shape[0])\n",
    "synthetic_data.to_csv('Gaussian/samples.csv', index=False)"
   ]
  },
  {
   "cell_type": "markdown",
   "id": "677db7a9-983e-4f0c-8290-8b0325f2a811",
   "metadata": {},
   "source": [
    "5. 评价合成数据"
   ]
  },
  {
   "cell_type": "code",
   "execution_count": 10,
   "id": "5f7221b21f359aa9",
   "metadata": {},
   "outputs": [
    {
     "name": "stdout",
     "output_type": "stream",
     "text": [
      "Generating report ...\n",
      "\n",
      "(1/2) Evaluating Column Shapes: |███████████████████████████████████████████████████| 50/50 [00:00<00:00, 1003.70it/s]|\n",
      "Column Shapes Score: 49.6%\n",
      "\n",
      "(2/2) Evaluating Column Pair Trends: |███████████████████████████████████████████| 1225/1225 [00:05<00:00, 217.99it/s]|\n",
      "Column Pair Trends Score: 97.33%\n",
      "\n",
      "Overall Score (Average): 73.46%\n",
      "\n",
      "<sdmetrics.reports.single_table.quality_report.QualityReport object at 0x0000016F02576E10>\n",
      "Column Shapes: 0.49596412556053815\n",
      "Column Pair Trends: 0.9733100905688502\n"
     ]
    },
    {
     "data": {
      "text/html": [
       "<iframe\n",
       "    scrolling=\"no\"\n",
       "    width=\"100%\"\n",
       "    height=\"545px\"\n",
       "    src=\"iframe_figures/figure_10.html\"\n",
       "    frameborder=\"0\"\n",
       "    allowfullscreen\n",
       "></iframe>\n"
      ]
     },
     "metadata": {},
     "output_type": "display_data"
    },
    {
     "data": {
      "text/html": [
       "<iframe\n",
       "    scrolling=\"no\"\n",
       "    width=\"920px\"\n",
       "    height=\"920\"\n",
       "    src=\"iframe_figures/figure_10.html\"\n",
       "    frameborder=\"0\"\n",
       "    allowfullscreen\n",
       "></iframe>\n"
      ]
     },
     "metadata": {},
     "output_type": "display_data"
    }
   ],
   "source": [
    "# fidelity evaluation\n",
    "from SVDevaluation import svd_evaluation\n",
    "Column_Shapes, Column_Pair_Trends = svd_evaluation(real_data=data_pd, synthetic_data=synthetic_data, savepath=result_path + 'svd_evaluation', show=True)\n"
   ]
  },
  {
   "cell_type": "code",
   "execution_count": 13,
   "id": "c113d748c7580b7c",
   "metadata": {},
   "outputs": [],
   "source": [
    "#-----------------------------------------------CTGAN Synthesizer------------------------------------------------------------#\n",
    "result_path = 'CTGAN/'\n",
    "os.makedirs(result_path, exist_ok=True)\n",
    "from sdv.single_table import CTGANSynthesizer\n",
    "synthesizer = CTGANSynthesizer(metadata, epochs=1)\n",
    "synthesizer.fit(data_pd)\n",
    "synthetic_data = synthesizer.sample(num_rows=data_pd.shape[0])\n",
    "synthetic_data.to_csv('CTGAN/samples.csv', index=False)\n"
   ]
  },
  {
   "cell_type": "code",
   "execution_count": 14,
   "id": "38d914fbfa9b8c56",
   "metadata": {},
   "outputs": [
    {
     "name": "stdout",
     "output_type": "stream",
     "text": [
      "Generating report ...\n",
      "\n",
      "(1/2) Evaluating Column Shapes: |███████████████████████████████████████████████████| 50/50 [00:00<00:00, 1024.44it/s]|\n",
      "Column Shapes Score: 65.65%\n",
      "\n",
      "(2/2) Evaluating Column Pair Trends: |███████████████████████████████████████████| 1225/1225 [00:05<00:00, 221.80it/s]|\n",
      "Column Pair Trends Score: 97.05%\n",
      "\n",
      "Overall Score (Average): 81.35%\n",
      "\n",
      "<sdmetrics.reports.single_table.quality_report.QualityReport object at 0x0000016F025A6150>\n",
      "Column Shapes: 0.6564573991031389\n",
      "Column Pair Trends: 0.9704907020820224\n"
     ]
    },
    {
     "data": {
      "text/html": [
       "<iframe\n",
       "    scrolling=\"no\"\n",
       "    width=\"100%\"\n",
       "    height=\"545px\"\n",
       "    src=\"iframe_figures/figure_14.html\"\n",
       "    frameborder=\"0\"\n",
       "    allowfullscreen\n",
       "></iframe>\n"
      ]
     },
     "metadata": {},
     "output_type": "display_data"
    },
    {
     "data": {
      "text/html": [
       "<iframe\n",
       "    scrolling=\"no\"\n",
       "    width=\"920px\"\n",
       "    height=\"920\"\n",
       "    src=\"iframe_figures/figure_14.html\"\n",
       "    frameborder=\"0\"\n",
       "    allowfullscreen\n",
       "></iframe>\n"
      ]
     },
     "metadata": {},
     "output_type": "display_data"
    }
   ],
   "source": [
    "# fidelity evaluation\n",
    "from SVDevaluation import svd_evaluation\n",
    "Column_Shapes, Column_Pair_Trends = svd_evaluation(real_data=data_pd, synthetic_data=synthetic_data, savepath=result_path + 'svd_evaluation', show=True)\n"
   ]
  },
  {
   "cell_type": "code",
   "execution_count": 15,
   "id": "cdb176d20874aefe",
   "metadata": {},
   "outputs": [],
   "source": [
    "#-------------------------------------------------TVAE Synthesizer-----------------------------------------------------------#\n",
    "result_path = 'TVAE/'\n",
    "os.makedirs(result_path, exist_ok=True)\n",
    "from sdv.single_table import TVAESynthesizer\n",
    "synthesizer = TVAESynthesizer(metadata, epochs=1)\n",
    "\n",
    "synthesizer.fit(data_pd)\n",
    "synthetic_data = synthesizer.sample(num_rows=data_pd.shape[0])\n",
    "synthetic_data.to_csv('TVAE/samples.csv', index=False)\n"
   ]
  },
  {
   "cell_type": "code",
   "execution_count": 16,
   "id": "a631a0d59df76c0d",
   "metadata": {},
   "outputs": [
    {
     "name": "stdout",
     "output_type": "stream",
     "text": [
      "Generating report ...\n",
      "\n",
      "(1/2) Evaluating Column Shapes: |███████████████████████████████████████████████████| 50/50 [00:00<00:00, 1090.14it/s]|\n",
      "Column Shapes Score: 52.19%\n",
      "\n",
      "(2/2) Evaluating Column Pair Trends: |███████████████████████████████████████████| 1225/1225 [00:05<00:00, 222.70it/s]|\n",
      "Column Pair Trends Score: 96.53%\n",
      "\n",
      "Overall Score (Average): 74.36%\n",
      "\n",
      "<sdmetrics.reports.single_table.quality_report.QualityReport object at 0x0000016F024B7B90>\n",
      "Column Shapes: 0.5219282511210762\n",
      "Column Pair Trends: 0.9653081250996076\n"
     ]
    },
    {
     "data": {
      "text/html": [
       "<iframe\n",
       "    scrolling=\"no\"\n",
       "    width=\"100%\"\n",
       "    height=\"545px\"\n",
       "    src=\"iframe_figures/figure_16.html\"\n",
       "    frameborder=\"0\"\n",
       "    allowfullscreen\n",
       "></iframe>\n"
      ]
     },
     "metadata": {},
     "output_type": "display_data"
    },
    {
     "data": {
      "text/html": [
       "<iframe\n",
       "    scrolling=\"no\"\n",
       "    width=\"920px\"\n",
       "    height=\"920\"\n",
       "    src=\"iframe_figures/figure_16.html\"\n",
       "    frameborder=\"0\"\n",
       "    allowfullscreen\n",
       "></iframe>\n"
      ]
     },
     "metadata": {},
     "output_type": "display_data"
    }
   ],
   "source": [
    "# fidelity evaluation\n",
    "from SVDevaluation import svd_evaluation\n",
    "Column_Shapes, Column_Pair_Trends = svd_evaluation(real_data=data_pd, synthetic_data=synthetic_data, savepath=result_path + 'svd_evaluation', show=True)\n"
   ]
  },
  {
   "cell_type": "code",
   "execution_count": 17,
   "id": "e7362b4aaea1f5f3",
   "metadata": {},
   "outputs": [
    {
     "name": "stdout",
     "output_type": "stream",
     "text": [
      "Generating report ...\n",
      "\n",
      "(1/2) Evaluating Column Shapes: |███████████████████████████████████████████████████| 50/50 [00:00<00:00, 1044.06it/s]|\n",
      "Column Shapes Score: 48.77%\n",
      "\n",
      "(2/2) Evaluating Column Pair Trends: |███████████████████████████████████████████| 1225/1225 [00:05<00:00, 222.72it/s]|\n",
      "Column Pair Trends Score: 97.69%\n",
      "\n",
      "Overall Score (Average): 73.23%\n",
      "\n",
      "<sdmetrics.reports.single_table.quality_report.QualityReport object at 0x0000016F1C724ED0>\n",
      "Column Shapes: 0.48771300448430494\n",
      "Column Pair Trends: 0.976938948544229\n"
     ]
    },
    {
     "data": {
      "text/html": [
       "<iframe\n",
       "    scrolling=\"no\"\n",
       "    width=\"100%\"\n",
       "    height=\"545px\"\n",
       "    src=\"iframe_figures/figure_17.html\"\n",
       "    frameborder=\"0\"\n",
       "    allowfullscreen\n",
       "></iframe>\n"
      ]
     },
     "metadata": {},
     "output_type": "display_data"
    },
    {
     "data": {
      "text/html": [
       "<iframe\n",
       "    scrolling=\"no\"\n",
       "    width=\"920px\"\n",
       "    height=\"920\"\n",
       "    src=\"iframe_figures/figure_17.html\"\n",
       "    frameborder=\"0\"\n",
       "    allowfullscreen\n",
       "></iframe>\n"
      ]
     },
     "metadata": {},
     "output_type": "display_data"
    }
   ],
   "source": [
    "#-------------------------------------------------只有生成数据的结果 ：NIM----------------------------------------------------------#\n",
    "\n",
    "\n",
    "result_path = 'NIM/'\n",
    "synthetic_data = pd.read_csv('NIM/samples.csv')\n",
    "# fidelity evaluation\n",
    "from SVDevaluation import svd_evaluation\n",
    "Column_Shapes, Column_Pair_Trends = svd_evaluation(real_data=data_pd, synthetic_data=synthetic_data, savepath=result_path + 'svd_evaluation', show=True)\n",
    "\n",
    "\n",
    "# import time\n",
    "# time.sleep(10)\n"
   ]
  },
  {
   "cell_type": "code",
   "execution_count": 18,
   "id": "6e0e92e5-5daf-4e04-ba02-00a35a3f25b7",
   "metadata": {},
   "outputs": [
    {
     "name": "stdout",
     "output_type": "stream",
     "text": [
      "Generating report ...\n",
      "\n",
      "(1/2) Evaluating Column Shapes: |███████████████████████████████████████████████████| 50/50 [00:00<00:00, 1230.07it/s]|\n",
      "Column Shapes Score: 92.34%\n",
      "\n",
      "(2/2) Evaluating Column Pair Trends: |███████████████████████████████████████████| 1225/1225 [00:05<00:00, 223.04it/s]|\n",
      "Column Pair Trends Score: 95.58%\n",
      "\n",
      "Overall Score (Average): 93.96%\n",
      "\n",
      "<sdmetrics.reports.single_table.quality_report.QualityReport object at 0x0000016F239A7590>\n",
      "Column Shapes: 0.9234053811659193\n",
      "Column Pair Trends: 0.9558220432754042\n"
     ]
    },
    {
     "data": {
      "text/html": [
       "<iframe\n",
       "    scrolling=\"no\"\n",
       "    width=\"100%\"\n",
       "    height=\"545px\"\n",
       "    src=\"iframe_figures/figure_18.html\"\n",
       "    frameborder=\"0\"\n",
       "    allowfullscreen\n",
       "></iframe>\n"
      ]
     },
     "metadata": {},
     "output_type": "display_data"
    },
    {
     "data": {
      "text/html": [
       "<iframe\n",
       "    scrolling=\"no\"\n",
       "    width=\"920px\"\n",
       "    height=\"920\"\n",
       "    src=\"iframe_figures/figure_18.html\"\n",
       "    frameborder=\"0\"\n",
       "    allowfullscreen\n",
       "></iframe>\n"
      ]
     },
     "metadata": {},
     "output_type": "display_data"
    }
   ],
   "source": [
    "#-------------------------------------------------Our-----------------------------------------------------------#\n",
    "result_path = 'Our/'\n",
    "synthetic_data = pd.read_csv('Our/samples.csv')\n",
    "# fidelity evaluation\n",
    "from SVDevaluation import svd_evaluation\n",
    "Column_Shapes, Column_Pair_Trends = svd_evaluation(real_data=data_pd, synthetic_data=synthetic_data, savepath=result_path + 'svd_evaluation', show=True)\n"
   ]
  }
 ],
 "metadata": {
  "kernelspec": {
   "display_name": "Python 3 (ipykernel)",
   "language": "python",
   "name": "python3"
  },
  "language_info": {
   "codemirror_mode": {
    "name": "ipython",
    "version": 3
   },
   "file_extension": ".py",
   "mimetype": "text/x-python",
   "name": "python",
   "nbconvert_exporter": "python",
   "pygments_lexer": "ipython3",
   "version": "3.11.9"
  }
 },
 "nbformat": 4,
 "nbformat_minor": 5
}
