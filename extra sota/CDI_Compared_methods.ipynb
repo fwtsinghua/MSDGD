{
 "cells": [
  {
   "cell_type": "markdown",
   "id": "cc0e123040afb248",
   "metadata": {},
   "source": [
    "# Evaluate the Generated Data\n"
   ]
  },
  {
   "cell_type": "code",
   "execution_count": 1,
   "id": "7d07828e-53d9-4ed5-8981-ebd5fc493bb1",
   "metadata": {},
   "outputs": [],
   "source": [
    "# Set CUDA Device Before Operations: Make sure that you set the CUDA device before performing any operations that would require GPU computation.\n",
    "\n",
    "import torch\n",
    "device = torch.device(\"cuda:0\" if torch.cuda.is_available() else \"cpu\")\n",
    "\n",
    "# Initialize CUDA Context: If you're using an environment where the CUDA context might \n",
    "# not be automatically initialized (like in some Jupyter notebook configurations), \n",
    "# you can manually initialize it by running a simple CUDA operation before your main computations:\n",
    "\n",
    "if torch.cuda.is_available():\n",
    "    _ = torch.rand(1, device='cuda')"
   ]
  },
  {
   "cell_type": "markdown",
   "id": "b5c7acaa-b0c7-4b77-9b71-8272aa910d70",
   "metadata": {},
   "source": [
    "### 1. 读取表格数据"
   ]
  },
  {
   "cell_type": "code",
   "execution_count": 2,
   "id": "870fa0465fa56fe7",
   "metadata": {
    "jupyter": {
     "is_executing": true
    }
   },
   "outputs": [
    {
     "data": {
      "text/html": [
       "<div>\n",
       "<style scoped>\n",
       "    .dataframe tbody tr th:only-of-type {\n",
       "        vertical-align: middle;\n",
       "    }\n",
       "\n",
       "    .dataframe tbody tr th {\n",
       "        vertical-align: top;\n",
       "    }\n",
       "\n",
       "    .dataframe thead th {\n",
       "        text-align: right;\n",
       "    }\n",
       "</style>\n",
       "<table border=\"1\" class=\"dataframe\">\n",
       "  <thead>\n",
       "    <tr style=\"text-align: right;\">\n",
       "      <th></th>\n",
       "      <th>YearStart</th>\n",
       "      <th>DataSource</th>\n",
       "      <th>LocationID</th>\n",
       "      <th>TopicID</th>\n",
       "      <th>QuestionID</th>\n",
       "      <th>DataValueTypeID</th>\n",
       "      <th>StratificationCategoryID1</th>\n",
       "      <th>StratificationID1</th>\n",
       "    </tr>\n",
       "  </thead>\n",
       "  <tbody>\n",
       "    <tr>\n",
       "      <th>0</th>\n",
       "      <td>2021</td>\n",
       "      <td>BRFSS</td>\n",
       "      <td>10</td>\n",
       "      <td>ART</td>\n",
       "      <td>ART5_0</td>\n",
       "      <td>CRDPREV</td>\n",
       "      <td>GENDER</td>\n",
       "      <td>GENM</td>\n",
       "    </tr>\n",
       "    <tr>\n",
       "      <th>1</th>\n",
       "      <td>2021</td>\n",
       "      <td>BRFSS</td>\n",
       "      <td>36</td>\n",
       "      <td>ART</td>\n",
       "      <td>ART1_3</td>\n",
       "      <td>CRDPREV</td>\n",
       "      <td>RACE</td>\n",
       "      <td>WHT</td>\n",
       "    </tr>\n",
       "    <tr>\n",
       "      <th>2</th>\n",
       "      <td>2021</td>\n",
       "      <td>BRFSS</td>\n",
       "      <td>36</td>\n",
       "      <td>TOB</td>\n",
       "      <td>TOB1_3</td>\n",
       "      <td>CRDPREV</td>\n",
       "      <td>RACE</td>\n",
       "      <td>WHT</td>\n",
       "    </tr>\n",
       "    <tr>\n",
       "      <th>3</th>\n",
       "      <td>2021</td>\n",
       "      <td>BRFSS</td>\n",
       "      <td>36</td>\n",
       "      <td>ALC</td>\n",
       "      <td>ALC3_0</td>\n",
       "      <td>MEAN</td>\n",
       "      <td>RACE</td>\n",
       "      <td>MRC</td>\n",
       "    </tr>\n",
       "    <tr>\n",
       "      <th>4</th>\n",
       "      <td>2021</td>\n",
       "      <td>BRFSS</td>\n",
       "      <td>36</td>\n",
       "      <td>ART</td>\n",
       "      <td>ART1_3</td>\n",
       "      <td>CRDPREV</td>\n",
       "      <td>RACE</td>\n",
       "      <td>BLK</td>\n",
       "    </tr>\n",
       "  </tbody>\n",
       "</table>\n",
       "</div>"
      ],
      "text/plain": [
       "   YearStart DataSource  LocationID TopicID QuestionID DataValueTypeID  \\\n",
       "0       2021      BRFSS          10     ART     ART5_0         CRDPREV   \n",
       "1       2021      BRFSS          36     ART     ART1_3         CRDPREV   \n",
       "2       2021      BRFSS          36     TOB     TOB1_3         CRDPREV   \n",
       "3       2021      BRFSS          36     ALC     ALC3_0            MEAN   \n",
       "4       2021      BRFSS          36     ART     ART1_3         CRDPREV   \n",
       "\n",
       "  StratificationCategoryID1 StratificationID1  \n",
       "0                    GENDER              GENM  \n",
       "1                      RACE               WHT  \n",
       "2                      RACE               WHT  \n",
       "3                      RACE               MRC  \n",
       "4                      RACE               BLK  "
      ]
     },
     "execution_count": 2,
     "metadata": {},
     "output_type": "execute_result"
    }
   ],
   "source": [
    "# -- coding: utf-8 --\n",
    "# import synthetic data vault libraries\n",
    "# !pip install sdv\n",
    "import os\n",
    "import pandas as pd\n",
    "data_pd = pd.read_csv('CDI_Table2.csv')\n",
    "data_pd.head()"
   ]
  },
  {
   "cell_type": "markdown",
   "id": "020c04e8-0cd7-4919-a2ee-420f55c44338",
   "metadata": {},
   "source": [
    "### 2. 理解数据：Auto detect metadata 获取输入表格数据的列类型和特征\n",
    "\n",
    "This is an example of a JSON file describing a single table.\n",
    "\n",
    "参考：\n",
    "- https://docs.sdv.dev/sdv/single-table-data/data-preparation/single-table-metadata-api\n",
    "- https://docs.sdv.dev/sdv/reference/metadata-spec/single-table-metadata-json\n",
    "\n",
    "可视化报错：failed to execute WindowsPath(‘dot‘), make sure the Graphviz executables are on\n",
    "解决：\n",
    "\n",
    "1. 先卸载　pip uninstall graphviz\n",
    "2. 安装windows版的 https://graphviz.org/，勾选系统路径，安装到C:\\Users\\x\\anaconda3\\Lib\\site-packages\\Graphviz\n",
    "3. 最后安装 pip install graphviz\n",
    "\n",
    "参考：\n",
    "- https://blog.csdn.net/gj18405655459/article/details/123234866\n",
    "- https://blog.csdn.net/m0_52118763/article/details/119919644"
   ]
  },
  {
   "cell_type": "code",
   "execution_count": 3,
   "id": "fe1559f6-04d2-4921-8509-0a36f72c1b41",
   "metadata": {},
   "outputs": [
    {
     "data": {
      "image/svg+xml": [
       "<?xml version=\"1.0\" encoding=\"UTF-8\" standalone=\"no\"?>\n",
       "<!DOCTYPE svg PUBLIC \"-//W3C//DTD SVG 1.1//EN\"\n",
       " \"http://www.w3.org/Graphics/SVG/1.1/DTD/svg11.dtd\">\n",
       "<!-- Generated by graphviz version 11.0.0 (20240428.1522)\n",
       " -->\n",
       "<!-- Title: Metadata Pages: 1 -->\n",
       "<svg width=\"125pt\" height=\"64pt\"\n",
       " viewBox=\"0.00 0.00 125.25 64.25\" xmlns=\"http://www.w3.org/2000/svg\" xmlns:xlink=\"http://www.w3.org/1999/xlink\">\n",
       "<g id=\"graph0\" class=\"graph\" transform=\"scale(1 1) rotate(0) translate(4 60.25)\">\n",
       "<title>Metadata</title>\n",
       "<polygon fill=\"white\" stroke=\"none\" points=\"-4,4 -4,-60.25 121.25,-60.25 121.25,4 -4,4\"/>\n",
       "<g id=\"node1\" class=\"node\">\n",
       "<title></title>\n",
       "<path fill=\"#ffec8b\" stroke=\"black\" d=\"M12,-0.5C12,-0.5 105.25,-0.5 105.25,-0.5 111.25,-0.5 117.25,-6.5 117.25,-12.5 117.25,-12.5 117.25,-43.75 117.25,-43.75 117.25,-49.75 111.25,-55.75 105.25,-55.75 105.25,-55.75 12,-55.75 12,-55.75 6,-55.75 0,-49.75 0,-43.75 0,-43.75 0,-12.5 0,-12.5 0,-6.5 6,-0.5 12,-0.5\"/>\n",
       "<text text-anchor=\"start\" x=\"8\" y=\"-38.45\" font-family=\"Times New Roman,serif\" font-size=\"14.00\">Columns</text>\n",
       "<text text-anchor=\"start\" x=\"8\" y=\"-22.7\" font-family=\"Times New Roman,serif\" font-size=\"14.00\">    • categorical : 7</text>\n",
       "<text text-anchor=\"start\" x=\"8\" y=\"-6.95\" font-family=\"Times New Roman,serif\" font-size=\"14.00\">    • numerical : 1</text>\n",
       "</g>\n",
       "</g>\n",
       "</svg>\n"
      ],
      "text/plain": [
       "<graphviz.graphs.Digraph at 0x21a7da3aa50>"
      ]
     },
     "execution_count": 3,
     "metadata": {},
     "output_type": "execute_result"
    }
   ],
   "source": [
    "from sdv.metadata import SingleTableMetadata\n",
    "\n",
    "# build a metadata for evaluation (from SDV)\n",
    "metadata = SingleTableMetadata()\n",
    "metadata.detect_from_dataframe(data_pd)\n",
    "python_dict = metadata.to_dict()\n",
    "metadata.visualize(\n",
    "    show_table_details='full',\n",
    "    output_filepath='my_metadata_full.png'\n",
    ")\n",
    "metadata.visualize(\n",
    "    show_table_details='summarized',\n",
    "    output_filepath='my_metadata_summarized.png'\n",
    ")"
   ]
  },
  {
   "cell_type": "markdown",
   "id": "5c8c9ffe-6bdc-4a77-ab77-7281b9abbb83",
   "metadata": {},
   "source": [
    "### 3. 定义评价指标方法"
   ]
  },
  {
   "cell_type": "code",
   "execution_count": 4,
   "id": "a4cdbc60a2c17919",
   "metadata": {},
   "outputs": [
    {
     "name": "stdout",
     "output_type": "stream",
     "text": [
      "Overwriting SVDevaluation.py\n"
     ]
    }
   ],
   "source": [
    "%%writefile SVDevaluation.py\n",
    "import pandas as pd\n",
    "import sdv.evaluation.single_table as sdv_st\n",
    "from sdv.metadata import SingleTableMetadata\n",
    "\n",
    "# 定义评价指标方法：Column Shapes（FC） 和 Column Pair Trends（FR）\n",
    "def svd_evaluation(real_data, synthetic_data, savepath, show=False):\n",
    "    # svd evaluation\n",
    "    metadata = SingleTableMetadata()  # build a metadata for evaluation (from SDV)\n",
    "    metadata.detect_from_dataframe(data=real_data)\n",
    "    quality_report = sdv_st.evaluate_quality(  # generate quality report\n",
    "        real_data,\n",
    "        synthetic_data,\n",
    "        metadata=metadata\n",
    "    )\n",
    "    print(quality_report)  # print quality report\n",
    "\n",
    "    properties_dataframe = quality_report.get_properties()\n",
    "    Column_Shapes = properties_dataframe.iloc[0, 1]\n",
    "    Column_Pair_Trends = properties_dataframe.iloc[1, 1]\n",
    "    print('Column Shapes:', Column_Shapes)\n",
    "    print('Column Pair Trends:', Column_Pair_Trends)\n",
    "    properties_dataframe.to_csv(savepath + '_properties_dataframe.csv', index=False)\n",
    "\n",
    "    if show:\n",
    "        # plot Column Shapes -> referred to the \"Fidelity Column\" in the paper\n",
    "        fig = quality_report.get_visualization(property_name='Column Shapes')\n",
    "        fig.write_html(savepath + '_Column_Shapes.html')\n",
    "        fig.show()\n",
    "        # plot Column Pair Trends -> referred to the \"Fidelity Row\" in the paper\n",
    "        fig = quality_report.get_visualization(property_name='Column Pair Trends')\n",
    "        fig.write_html(savepath + '_Column_Pair_Trends.html')\n",
    "        fig.show()\n",
    "    return Column_Shapes, Column_Pair_Trends\n",
    "\n",
    "\n",
    "if __name__ == '__main__':\n",
    "    # 假设我们有一些示例的真实数据和合成数据\n",
    "    # 这里我们只是简单地创建两个包含随机数的DataFrame作为示例\n",
    "    real_data = pd.DataFrame({\n",
    "        'A': [1, 2, 3, 4, 5],\n",
    "        'B': [5, 4, 3, 2, 1],\n",
    "        'C': [2, 3, 4, 5, 6]\n",
    "    })\n",
    "\n",
    "    synthetic_data = pd.DataFrame({\n",
    "        'A': [1.1, 1.9, 2.8, 4.5, 4.9],\n",
    "        'B': [5.2, 4.3, 3.4, 2.5, 1.7],\n",
    "        'C': [2.1, 3.4, 4.5, 5.6, 6.7]\n",
    "    })\n",
    "\n",
    "    # 定义一个保存路径\n",
    "    savepath = \"./\"\n",
    "\n",
    "    # 调用 svd_evaluation 函数\n",
    "    svd_evaluation(real_data, synthetic_data, savepath)\n"
   ]
  },
  {
   "cell_type": "code",
   "execution_count": 5,
   "id": "c19071f8-d205-4e5d-8b78-7fbc3822ab93",
   "metadata": {},
   "outputs": [
    {
     "name": "stdout",
     "output_type": "stream",
     "text": [
      "Overwriting Ratio_Difference.py\n"
     ]
    }
   ],
   "source": [
    "%%writefile Ratio_Difference.py\n",
    "\n",
    "def ratio_difference(df, samples, savepath=None):\n",
    "    mean_difference_list = []\n",
    "    with open(savepath, 'w', encoding='utf-8') as f:\n",
    "        # 比较每列的分类比例是否与原始设定的比例相同\n",
    "        for i in range(len(df.columns)):\n",
    "            column_name = df.columns[i]\n",
    "\n",
    "            freq_column1 = df[column_name].value_counts(normalize=True).sort_index().tolist()  # 原始数据的频率\n",
    "            freq_column1_sample = samples[column_name].value_counts(normalize=True).sort_index().tolist()\n",
    "            # 计算对应元素之间的差并取绝对值\n",
    "            differences = [abs(x - y) for x, y in zip(freq_column1, freq_column1_sample)]\n",
    "\n",
    "            # 计算差的均值\n",
    "            mean_difference = sum(differences) / len(differences)\n",
    "\n",
    "            # 将打印输出重定向到文件\n",
    "            print(f\"差的均值：{mean_difference}\", file=f)\n",
    "            print(f\"{column_name} 原始数据的频率：{freq_column1}\", file=f)\n",
    "            print(f\"{column_name} 生成数据的频率：{freq_column1_sample}\", file=f)\n",
    "\n",
    "\n",
    "            print(f\"差的均值：{mean_difference}\")\n",
    "            print(f\"{column_name} 原始数据的频率：{freq_column1}\")\n",
    "            print(f\"{column_name} 生成数据的频率：{freq_column1_sample}\")\n",
    "            mean_difference_list.append(mean_difference)\n",
    "            \n",
    "        results = sum(mean_difference_list) / len(mean_difference_list)\n",
    "        print(f\"平均差的均值：{results}\", file=f)\n",
    "        print(f\"------------平均差的均值：{results}------------\")\n",
    "    return results\n",
    "\n",
    "# from Ratio_Difference import ratio_difference\n",
    "# average_difference = ratio_difference(df, samples, savepath=results_path+'/ratio_difference.txt')"
   ]
  },
  {
   "cell_type": "code",
   "execution_count": 6,
   "id": "7417aee4-7202-4557-b125-d5e48a0a1be3",
   "metadata": {},
   "outputs": [
    {
     "name": "stdout",
     "output_type": "stream",
     "text": [
      "Overwriting Subclass_Error_Rate.py\n"
     ]
    }
   ],
   "source": [
    "%%writefile Subclass_Error_Rate.py\n",
    "import numpy as np\n",
    "import pandas as pd\n",
    "\n",
    "# 检查子列中的值是否属于其父列的子类别\n",
    "def is_subclass_of_parent(row, subclass_col, parent_col, parent_child_mapping):\n",
    "    subclass_value = row[subclass_col]\n",
    "    parent_value = row[parent_col]\n",
    "    valid_children = parent_child_mapping[parent_col].get(parent_value, [])\n",
    "    return subclass_value in valid_children\n",
    "\n",
    "\n",
    "def subclass_error_rate(df, subclass_mapping, parent_child_mapping, savepath=None):\n",
    "    \"\"\"\n",
    "    计算DataFrame中的子类别错误率，错误的数量是子列中的值不属于其父列的子类别的数量\n",
    "    :param df: DataFrame对象\n",
    "    :param subclass_mapping: 字典，指定子列和父列的对应关系\n",
    "    :param parent_child_mapping: 字典，父类别和对应的子类别的映射\n",
    "    :return: 错误率\n",
    "    \"\"\"\n",
    "\n",
    "    error_count = 0  # 错误的总数\n",
    "    total_pairs = 0  # 检查的子父对总数\n",
    "\n",
    "    # 遍历所有子父列对\n",
    "    for subclass_col, parent_col in subclass_mapping.items():\n",
    "        for index, row in df.iterrows():\n",
    "            # 检查每一对子父值是否正确\n",
    "            if not is_subclass_of_parent(row, subclass_col, parent_col, parent_child_mapping):\n",
    "                error_count += 1  # 错误的子父对数量加1\n",
    "            total_pairs += 1  # 检查的子父对数量加1\n",
    "\n",
    "    # 计算错误率\n",
    "    error_rate = error_count / total_pairs if total_pairs > 0 else 0\n",
    "    with open(savepath, 'w', encoding='utf-8') as f:\n",
    "        print(f\"----------错误率: {error_rate:.2%}, 错误数量: {error_count}----------\", file=f)\n",
    "    print(f\"----------错误率: {error_rate:.2%}, 错误数量: {error_count}----------\")\n",
    "    return error_rate, error_count\n",
    "\n",
    "\n",
    "if __name__ == '__main__':\n",
    "    # 定义列之间的子类关系映射\n",
    "    subclass_mapping = {\n",
    "        \"Column 2\": \"Column 1\",\n",
    "        \"Column 4\": \"Column 3\",\n",
    "    }\n",
    "    # 定义父类别和对应的子类别\n",
    "    parent_child_mapping = {\n",
    "        \"Column 1\": {\n",
    "            \"a\": ['a1', 'a2', 'a3', 'a4'],\n",
    "            \"b\": [\"b1\", \"b2\"],\n",
    "        },\n",
    "        \"Column 3\": {\n",
    "            \"c\": ['c1', 'c2', 'c3', 'c4'],\n",
    "            \"d\": [\"d1\", \"d2\"],\n",
    "        },\n",
    "    }\n",
    "    size = 100\n",
    "\n",
    "    # 生成数据\n",
    "    column1_data = np.random.choice(list(parent_child_mapping[\"Column 1\"].keys()), size=size)\n",
    "    column2_data = np.array([parent_child_mapping[\"Column 1\"][c][np.random.randint(0, len(parent_child_mapping[\"Column 1\"][c]))] for c in column1_data])\n",
    "    column3_data = np.random.choice(list(parent_child_mapping[\"Column 3\"].keys()), size=size)\n",
    "    column4_data = np.array([parent_child_mapping[\"Column 3\"][c][np.random.randint(0, len(parent_child_mapping[\"Column 3\"][c]))] for c in column3_data])\n",
    "\n",
    "    # 创建DataFrame\n",
    "    data = {\n",
    "        'Column 1': column1_data,\n",
    "        'Column 2': column2_data,\n",
    "        'Column 3': column3_data,\n",
    "        'Column 4': column4_data,\n",
    "    }\n",
    "    df = pd.DataFrame(data)\n",
    "\n",
    "    # 计算并打印错误率\n",
    "    error_rate, error_count = subclass_error_rate(df, subclass_mapping, parent_child_mapping)\n",
    "    print(f\"错误率: {error_rate:.2%}, 错误数量: {error_count}\")\n",
    "\n",
    "# from Subclass_Error_Rate import subclass_error_rate\n",
    "# error_rate, error_count = subclass_error_rate(samples, subclass_mapping, parent_child_mapping, savepath=results_path+'/subclass_error_rate.txt')"
   ]
  },
  {
   "cell_type": "code",
   "execution_count": 7,
   "id": "9897110c-042f-455c-91bb-70d152f5f9e4",
   "metadata": {},
   "outputs": [],
   "source": [
    "def evaluation(data_pd, synthetic_data, result_path):\n",
    "    # FC: Fidelity Column  FR: Fidelity Row \n",
    "    from SVDevaluation import svd_evaluation\n",
    "    Column_Shapes, Column_Pair_Trends = svd_evaluation(real_data=data_pd, synthetic_data=synthetic_data, savepath=result_path + 'svd_evaluation', show=True)\n",
    "\n",
    "    # CPD: the category proportion discrepancy\n",
    "    from Ratio_Difference import ratio_difference\n",
    "    average_difference = ratio_difference(df=data_pd, samples=synthetic_data, savepath=result_path+'/ratio_difference.txt')\n",
    "\n",
    "    # ER: Error Rate   EC: Errow Count\n",
    "    from Subclass_Error_Rate import subclass_error_rate\n",
    "    import json\n",
    "    data_path='CDI_Table2.csv'\n",
    "    with open(data_path.replace('.csv', '_subclass_mapping.json')) as f:\n",
    "        subclass_mapping = json.load(f)\n",
    "    with open(data_path.replace('.csv', '_parent_child_mapping.json')) as f:\n",
    "        parent_child_mapping = json.load(f)\n",
    "    error_rate, error_count = subclass_error_rate(synthetic_data, subclass_mapping, parent_child_mapping, savepath=result_path+'/subclass_error_rate.txt')\n",
    "\n",
    "    print(\"| 列比例差异均值  | fidelity Column | fidelity row  |    错误分类率 |   错误数量 |\")\n",
    "    print(\" |------ |------ |------ |------ |-------------- |\")\n",
    "    print(f\"| {average_difference:.4f} | {Column_Shapes:.4f} | {Column_Pair_Trends:.4f} | {error_rate:.4f} | {error_count} |\")\n"
   ]
  },
  {
   "cell_type": "markdown",
   "id": "24174c0b-ddd3-4616-a46d-b3f3463412d6",
   "metadata": {},
   "source": [
    "1. ParentChildEncoder 会把字符串变成数值型，用于生成（编码方式有三种Intern， Entire， ParentChild）\n",
    "2. 读取转换后的表格（全是数值+label）\n",
    "3. 数据生成\n",
    "4. 逆转换回字符串表格"
   ]
  },
  {
   "cell_type": "markdown",
   "id": "4c6526e3-c510-488e-a4f3-4742122e566b",
   "metadata": {},
   "source": [
    "###  4. 使用特定合成器，合成新的数据"
   ]
  },
  {
   "cell_type": "code",
   "execution_count": 8,
   "id": "8fee60831fc2b685",
   "metadata": {},
   "outputs": [
    {
     "name": "stderr",
     "output_type": "stream",
     "text": [
      "C:\\Users\\x\\anaconda3\\envs\\pytorch230\\Lib\\site-packages\\sdv\\single_table\\base.py:86: UserWarning: We strongly recommend saving the metadata using 'save_to_json' for replicability in future SDV versions.\n",
      "  warnings.warn(\n"
     ]
    }
   ],
   "source": [
    "# metadata.save_to_json(filepath='CDI_metadata.json')\n",
    "\n",
    "#-----------------------------------------------Gaussian Copula Synthesizer------------------------------------------------------------#\n",
    "result_path = 'Gaussian/'\n",
    "os.makedirs(result_path, exist_ok=True)\n",
    "\n",
    "\n",
    "from sdv.single_table import GaussianCopulaSynthesizer\n",
    "synthesizer = GaussianCopulaSynthesizer(metadata)\n",
    "synthesizer.fit(data_pd)\n",
    "synthetic_data = synthesizer.sample(num_rows=data_pd.shape[0])\n",
    "synthetic_data.to_csv('Gaussian/samples.csv', index=False)"
   ]
  },
  {
   "cell_type": "markdown",
   "id": "677db7a9-983e-4f0c-8290-8b0325f2a811",
   "metadata": {},
   "source": [
    "5. 评价合成数据"
   ]
  },
  {
   "cell_type": "code",
   "execution_count": 9,
   "id": "5f7221b21f359aa9",
   "metadata": {},
   "outputs": [
    {
     "name": "stdout",
     "output_type": "stream",
     "text": [
      "Generating report ...\n",
      "\n",
      "(1/2) Evaluating Column Shapes: |███████████████████████████████████████████████████████| 8/8 [00:00<00:00, 62.15it/s]|\n",
      "Column Shapes Score: 98.92%\n",
      "\n",
      "(2/2) Evaluating Column Pair Trends: |████████████████████████████████████████████████| 28/28 [00:00<00:00, 37.16it/s]|\n",
      "Column Pair Trends Score: 90.21%\n",
      "\n",
      "Overall Score (Average): 94.57%\n",
      "\n",
      "<sdmetrics.reports.single_table.quality_report.QualityReport object at 0x0000021A0F8A40D0>\n",
      "Column Shapes: 0.989235470579108\n",
      "Column Pair Trends: 0.9021072801653117\n"
     ]
    },
    {
     "data": {
      "text/html": [
       "<iframe\n",
       "    scrolling=\"no\"\n",
       "    width=\"100%\"\n",
       "    height=\"545px\"\n",
       "    src=\"iframe_figures/figure_9.html\"\n",
       "    frameborder=\"0\"\n",
       "    allowfullscreen\n",
       "></iframe>\n"
      ]
     },
     "metadata": {},
     "output_type": "display_data"
    },
    {
     "data": {
      "text/html": [
       "<iframe\n",
       "    scrolling=\"no\"\n",
       "    width=\"920px\"\n",
       "    height=\"920\"\n",
       "    src=\"iframe_figures/figure_9.html\"\n",
       "    frameborder=\"0\"\n",
       "    allowfullscreen\n",
       "></iframe>\n"
      ]
     },
     "metadata": {},
     "output_type": "display_data"
    },
    {
     "name": "stdout",
     "output_type": "stream",
     "text": [
      "差的均值：0.0\n",
      "YearStart 原始数据的频率：[1.0]\n",
      "YearStart 生成数据的频率：[1.0]\n",
      "差的均值：0.00014941755886189423\n",
      "DataSource 原始数据的频率：[0.0009482268158543523, 0.0027929589848800923, 0.9915866420702377, 0.0009482268158543523, 0.0009309863282933641, 0.0027929589848800923]\n",
      "DataSource 生成数据的频率：[0.0009482268158543523, 0.003068806785855904, 0.991190110856335, 0.00106891022878127, 0.0008792648656103995, 0.002844680447563057]\n",
      "差的均值：0.0028293207404632677\n",
      "LocationID 原始数据的频率：[0.018395600227574437, 0.018395600227574437, 0.018395600227574437, 0.018395600227574437, 0.018395600227574437, 0.018395600227574437, 0.018395600227574437, 0.018395600227574437, 0.018395600227574437, 0.018395600227574437, 0.018395600227574437, 0.018395600227574437, 0.018395600227574437, 0.018395600227574437, 0.018395600227574437, 0.018395600227574437, 0.018395600227574437, 0.018395600227574437, 0.018395600227574437, 0.018395600227574437, 0.018395600227574437, 0.018395600227574437, 0.018395600227574437, 0.018395600227574437, 0.018395600227574437, 0.018395600227574437, 0.018395600227574437, 0.018395600227574437, 0.018395600227574437, 0.018395600227574437, 0.018395600227574437, 0.018395600227574437, 0.018395600227574437, 0.018395600227574437, 0.018395600227574437, 0.018395600227574437, 0.018395600227574437, 0.018395600227574437, 0.018395600227574437, 0.018395600227574437, 0.018395600227574437, 0.018395600227574437, 0.018395600227574437, 0.018395600227574437, 0.018395600227574437, 0.018395600227574437, 0.018395600227574437, 0.018395600227574437, 0.018395600227574437, 0.018395600227574437, 0.018395600227574437, 0.006637587710980467, 0.018395600227574437, 0.018395600227574437, 0.018395600227574437]\n",
      "LocationID 生成数据的频率：[0.008706446218299054, 0.012378670068789545, 0.014550971501474061, 0.014775097839766908, 0.015878489043670153, 0.0166887919590366, 0.01680947537196352, 0.01827491681464752, 0.018671448028550246, 0.017912866575866767, 0.01901625777977001, 0.019498991431477684, 0.020050687033429306, 0.018516283640501355, 0.019947244108063377, 0.01836111925245246, 0.01865420754098926, 0.019119700705135943, 0.018861093391721116, 0.019119700705135943, 0.018671448028550246, 0.018412840715135423, 0.019033498267331, 0.018930055341965072, 0.018223195351964552, 0.017154285123183285, 0.018223195351964552, 0.017705980725134907, 0.017533575849525026, 0.017619778287329965, 0.017516335361964036, 0.016757753909280554, 0.01641294415806079, 0.016085374894402014, 0.01601641294415806, 0.015981931969036085, 0.0158095270934262, 0.01575780563074324, 0.015723324655621262, 0.014533731013913073, 0.014844059790010862, 0.014740616864644932, 0.013775149561229591, 0.01291312518318018, 0.013326896884643898, 0.012482112994155475, 0.012085581780252746, 0.012499353481716463, 0.011620088616106063, 0.011447683740496182, 0.011206316914642345, 0.010827026188300604, 0.01058565936244677, 0.010551178387324793, 0.009896039860007241, 0.009206420357567711, 0.009344344258055618, 0.008430598417323241, 0.009068496457079807, 0.008103029153664466, 0.00825819354171336, 0.007034118924883196, 0.007068599900005172, 0.006327258934882679, 0.006447942347809596, 0.005258348706101409, 0.005310070168784373, 0.004965260417564609, 0.004637691153905833, 0.00446528627829595, 0.003827388238539386, 0.003810147750978398, 0.003241211661465786, 0.003086047273416892, 0.0026550350843921864, 0.0021723014326845164, 0.001982656069513646, 0.004603210178783856]\n",
      "差的均值：0.0004802707249132438\n",
      "TopicID 原始数据的频率：[0.07492715894005482, 0.14999224178059756, 0.08059927934761996, 0.014999224178059755, 0.08999534506835853, 0.12559695188179923, 0.18559384859403824, 0.014999224178059755, 0.020602382635380927, 0.08059927934761996, 0.0009482268158543523, 0.07120321362688137, 0.005603158457321173, 0.0843404651483544]\n",
      "TopicID 生成数据的频率：[0.07622019550712894, 0.14990603934279262, 0.08058203886005896, 0.015275071979035567, 0.08927124459079702, 0.12457976311570092, 0.18505939347964762, 0.015654362705377307, 0.02010240849611227, 0.08011654569591228, 0.0009482268158543523, 0.07166870679102805, 0.005947968208540938, 0.08466803441201318]\n",
      "差的均值：0.00035021038587742354\n",
      "QuestionID 原始数据的频率：[0.014999224178059755, 0.005603158457321173, 0.014999224178059755, 0.014999224178059755, 0.014999224178059755, 0.005603158457321173, 0.0009309863282933641, 0.0009309863282933641, 0.0009309863282933641, 0.0009309863282933641, 0.014999224178059755, 0.014999224178059755, 0.014999224178059755, 0.014999224178059755, 0.014999224178059755, 0.014999224178059755, 0.014999224178059755, 0.014999224178059755, 0.014999224178059755, 0.014999224178059755, 0.014999224178059755, 0.005603158457321173, 0.014999224178059755, 0.014999224178059755, 0.014999224178059755, 0.014999224178059755, 0.014999224178059755, 0.014999224178059755, 0.014999224178059755, 0.014999224178059755, 0.014999224178059755, 0.014999224178059755, 0.014999224178059755, 0.014999224178059755, 0.014999224178059755, 0.014999224178059755, 0.014999224178059755, 0.014999224178059755, 0.005603158457321173, 0.014999224178059755, 0.014999224178059755, 0.014999224178059755, 0.014999224178059755, 0.014999224178059755, 0.014999224178059755, 0.014999224178059755, 0.014999224178059755, 0.014999224178059755, 0.014999224178059755, 0.014999224178059755, 0.014999224178059755, 0.005603158457321173, 0.014999224178059755, 0.014999224178059755, 0.014999224178059755, 0.014999224178059755, 0.014999224178059755, 0.005603158457321173, 0.014999224178059755, 0.014999224178059755, 0.014999224178059755, 0.005603158457321173, 0.014999224178059755, 0.007499612089029877, 0.007499612089029877, 0.0009482268158543523, 0.014999224178059755, 0.005603158457321173, 0.014999224178059755, 0.005603158457321173, 0.014999224178059755, 0.014999224178059755, 0.005603158457321173, 0.014999224178059755, 0.014999224178059755, 0.014999224178059755, 0.005603158457321173, 0.014999224178059755, 0.014999224178059755, 0.0009309863282933641, 0.0009309863282933641, 0.0009482268158543523, 0.0009309863282933641]\n",
      "QuestionID 生成数据的频率：[0.014516490526352085, 0.005689360895126114, 0.015464717342206438, 0.01599917245659707, 0.014740616864644932, 0.005620398944882162, 0.0008792648656103995, 0.000844783890488423, 0.0008620243780494112, 0.0007930624278054584, 0.014585452476596037, 0.015464717342206438, 0.014413047600986157, 0.014499250038791097, 0.01475785735220592, 0.01427512370049825, 0.015188869541230625, 0.015154388566108649, 0.014447528576108133, 0.014809578814888886, 0.015137148078547661, 0.005689360895126114, 0.014809578814888886, 0.015412995879523474, 0.014844059790010862, 0.01427512370049825, 0.014154440287571332, 0.015154388566108649, 0.014913021740254814, 0.014447528576108133, 0.014482009551230109, 0.014723376377083944, 0.014775097839766908, 0.01574056514318225, 0.013999275899522438, 0.01427512370049825, 0.015671603192938297, 0.014981983690498767, 0.0055514369946382085, 0.015223350516352603, 0.015499198317328414, 0.014550971501474061, 0.01486130027757185, 0.015085426615864697, 0.014637173939279003, 0.015550919780011378, 0.015723324655621262, 0.014550971501474061, 0.014878540765132838, 0.014395807113425167, 0.016361222695377826, 0.0055686774821991965, 0.015309552954157543, 0.01525783149147458, 0.015688843680499283, 0.015171629053669637, 0.015206110028791615, 0.005844525283175008, 0.015430236367084462, 0.015223350516352603, 0.01475785735220592, 0.005103184318052514, 0.014447528576108133, 0.0072582452631760426, 0.00787890281537162, 0.0010861507163422582, 0.014964743202937779, 0.005999689671223902, 0.01534403392927952, 0.005603158457321173, 0.01534403392927952, 0.015430236367084462, 0.005741082357809079, 0.01553367929245039, 0.015085426615864697, 0.015723324655621262, 0.0059134872334189615, 0.01408547833732738, 0.014775097839766908, 0.0009309863282933641, 0.0009654673034153406, 0.0009309863282933641, 0.0010344292536592936]\n",
      "差的均值：0.0006628009662335457\n",
      "DataValueTypeID 原始数据的频率：[0.03749806044514939, 0.41997827698567314, 0.0009309863282933641, 0.4825612468320604, 0.03749806044514939, 0.014999224178059755, 0.0009482268158543523, 0.0027929589848800923, 0.0027929589848800923]\n",
      "DataValueTypeID 生成数据的频率：[0.03853248969880868, 0.42070237746323463, 0.0007930624278054584, 0.48019930003620503, 0.03858421116149165, 0.014792338327327896, 0.0009482268158543523, 0.002517111183904281, 0.002930882885367998]\n",
      "差的均值：0.0019309346068306736\n",
      "StratificationCategoryID1 原始数据的频率：[0.23516025033187937, 0.13642397807009982, 0.6284157715980208]\n",
      "StratificationCategoryID1 生成数据的频率：[0.23550506008309915, 0.13897557022912607, 0.6255193696877748]\n",
      "差的均值：0.0009051255969518834\n",
      "StratificationID1 原始数据的频率：[0.12568315431960417, 0.11758012516593969, 0.11758012516593969, 0.12568315431960417, 0.12568315431960417, 0.12568315431960417, 0.13642397807009982, 0.12568315431960417]\n",
      "StratificationID1 生成数据的频率：[0.12314880264813889, 0.11876971880764788, 0.11739047980276882, 0.12640725479716566, 0.12611416650862886, 0.12595900212057998, 0.13742392634863715, 0.12478664896643277]\n",
      "------------平均差的均值：0.0009135100725164915------------\n",
      "----------错误率: 52.51%, 错误数量: 30460----------\n",
      "| 列比例差异均值  | fidelity Column | fidelity row  |    错误分类率 |   错误数量 |\n",
      " |------ |------ |------ |------ |-------------- |\n",
      "| 0.0009 | 0.9892 | 0.9021 | 0.5251 | 30460 |\n"
     ]
    }
   ],
   "source": [
    "evaluation(data_pd, synthetic_data, result_path)"
   ]
  },
  {
   "cell_type": "markdown",
   "id": "94ca6055-a14f-4025-bbbb-d76121db6534",
   "metadata": {},
   "source": [
    "# 另一个方法结果"
   ]
  },
  {
   "cell_type": "code",
   "execution_count": 10,
   "id": "c113d748c7580b7c",
   "metadata": {},
   "outputs": [
    {
     "name": "stderr",
     "output_type": "stream",
     "text": [
      "C:\\Users\\x\\anaconda3\\envs\\pytorch230\\Lib\\site-packages\\torch\\autograd\\graph.py:744: UserWarning:\n",
      "\n",
      "Attempting to run cuBLAS, but there was no current CUDA context! Attempting to set the primary context... (Triggered internally at C:\\cb\\pytorch_1000000000000\\work\\aten\\src\\ATen\\cuda\\CublasHandlePool.cpp:135.)\n",
      "\n"
     ]
    }
   ],
   "source": [
    "#-----------------------------------------------CTGAN Synthesizer------------------------------------------------------------#\n",
    "result_path = 'CTGAN/'\n",
    "os.makedirs(result_path, exist_ok=True)\n",
    "from sdv.single_table import CTGANSynthesizer\n",
    "synthesizer = CTGANSynthesizer(metadata, epochs=1)\n",
    "synthesizer.fit(data_pd)\n",
    "synthetic_data = synthesizer.sample(num_rows=data_pd.shape[0])\n",
    "synthetic_data.to_csv('CTGAN/samples.csv', index=False)\n"
   ]
  },
  {
   "cell_type": "code",
   "execution_count": 11,
   "id": "38d914fbfa9b8c56",
   "metadata": {},
   "outputs": [
    {
     "name": "stdout",
     "output_type": "stream",
     "text": [
      "Generating report ...\n",
      "\n",
      "(1/2) Evaluating Column Shapes: |███████████████████████████████████████████████████████| 8/8 [00:00<00:00, 84.81it/s]|\n",
      "Column Shapes Score: 84.21%\n",
      "\n",
      "(2/2) Evaluating Column Pair Trends: |████████████████████████████████████████████████| 28/28 [00:00<00:00, 36.57it/s]|\n",
      "Column Pair Trends Score: 69.99%\n",
      "\n",
      "Overall Score (Average): 77.1%\n",
      "\n",
      "<sdmetrics.reports.single_table.quality_report.QualityReport object at 0x0000021A0F8ADD50>\n",
      "Column Shapes: 0.8421223902211954\n",
      "Column Pair Trends: 0.6999360870496847\n"
     ]
    },
    {
     "data": {
      "text/html": [
       "<iframe\n",
       "    scrolling=\"no\"\n",
       "    width=\"100%\"\n",
       "    height=\"545px\"\n",
       "    src=\"iframe_figures/figure_11.html\"\n",
       "    frameborder=\"0\"\n",
       "    allowfullscreen\n",
       "></iframe>\n"
      ]
     },
     "metadata": {},
     "output_type": "display_data"
    },
    {
     "data": {
      "text/html": [
       "<iframe\n",
       "    scrolling=\"no\"\n",
       "    width=\"920px\"\n",
       "    height=\"920\"\n",
       "    src=\"iframe_figures/figure_11.html\"\n",
       "    frameborder=\"0\"\n",
       "    allowfullscreen\n",
       "></iframe>\n"
      ]
     },
     "metadata": {},
     "output_type": "display_data"
    },
    {
     "name": "stdout",
     "output_type": "stream",
     "text": [
      "差的均值：0.0\n",
      "YearStart 原始数据的频率：[1.0]\n",
      "YearStart 生成数据的频率：[1.0]\n",
      "差的均值：0.04364716767523518\n",
      "DataSource 原始数据的频率：[0.0009482268158543523, 0.0027929589848800923, 0.9915866420702377, 0.0009482268158543523, 0.0009309863282933641, 0.0027929589848800923]\n",
      "DataSource 生成数据的频率：[0.024136682585383516, 0.03641190972880713, 0.8606451390445322, 0.024550454286847233, 0.023257417719773115, 0.030998396634656828]\n",
      "差的均值：0.007531898820280455\n",
      "LocationID 原始数据的频率：[0.018395600227574437, 0.018395600227574437, 0.018395600227574437, 0.018395600227574437, 0.018395600227574437, 0.018395600227574437, 0.018395600227574437, 0.018395600227574437, 0.018395600227574437, 0.018395600227574437, 0.018395600227574437, 0.018395600227574437, 0.018395600227574437, 0.018395600227574437, 0.018395600227574437, 0.018395600227574437, 0.018395600227574437, 0.018395600227574437, 0.018395600227574437, 0.018395600227574437, 0.018395600227574437, 0.018395600227574437, 0.018395600227574437, 0.018395600227574437, 0.018395600227574437, 0.018395600227574437, 0.018395600227574437, 0.018395600227574437, 0.018395600227574437, 0.018395600227574437, 0.018395600227574437, 0.018395600227574437, 0.018395600227574437, 0.018395600227574437, 0.018395600227574437, 0.018395600227574437, 0.018395600227574437, 0.018395600227574437, 0.018395600227574437, 0.018395600227574437, 0.018395600227574437, 0.018395600227574437, 0.018395600227574437, 0.018395600227574437, 0.018395600227574437, 0.018395600227574437, 0.018395600227574437, 0.018395600227574437, 0.018395600227574437, 0.018395600227574437, 0.018395600227574437, 0.006637587710980467, 0.018395600227574437, 0.018395600227574437, 0.018395600227574437]\n",
      "LocationID 生成数据的频率：[0.008878851093908936, 0.004017033601710256, 0.005103184318052514, 0.0055514369946382085, 0.006396220885126631, 0.0068789545368343015, 0.007706497939761737, 0.007896143302932607, 0.008378876954640277, 0.008982294019274865, 0.008516800855128183, 0.009051255969518819, 0.00882712963122597, 0.008171991103908418, 0.007447890626346913, 0.006982397462200231, 0.006189335034394772, 0.007396169163663948, 0.009120217919762771, 0.010016723272934158, 0.0106891022878127, 0.011085633501715429, 0.011809733979276933, 0.012361429581228557, 0.013102770546351051, 0.014723376377083944, 0.014550971501474061, 0.01494750271537679, 0.014430288088547145, 0.01632674172025585, 0.017895626088305777, 0.01894729582952606, 0.02039549678464907, 0.02260227919245556, 0.024309087460993396, 0.025860731341482337, 0.02601589572953123, 0.02594693377928728, 0.02603313621709222, 0.028222678137337726, 0.028291640087581678, 0.026567591331482853, 0.02611933865489716, 0.025860731341482337, 0.02322293674465114, 0.022171267003430858, 0.02001620605830733, 0.019430029481233728, 0.01970587728220954, 0.020723066048307846, 0.023843594296846717, 0.02427460648587142, 0.02730893229660535, 0.025964174266848265, 0.0253262762270917, 0.021912659690016035, 0.01699912073513439, 0.014447528576108133, 0.009482268158543524, 0.0052411082185404205, 0.002155060945123528, 0.0010516697412202816, 0.0016723272934158577, 0.001758529731220799, 0.001758529731220799, 0.0023102253331724223, 0.00213782045756254, 0.0024826302087823044, 0.0026377945968311983, 0.0024136682585383516, 0.002982604348050963, 0.0024826302087823044, 0.0023447063082943985, 0.002517111183904281, 0.0022067824078064926, 0.0023102253331724223, 0.0024998706963432924, 0.013602744685619709]\n",
      "差的均值：0.022057972370887222\n",
      "TopicID 原始数据的频率：[0.07492715894005482, 0.14999224178059756, 0.08059927934761996, 0.014999224178059755, 0.08999534506835853, 0.12559695188179923, 0.18559384859403824, 0.014999224178059755, 0.020602382635380927, 0.08059927934761996, 0.0009482268158543523, 0.07120321362688137, 0.005603158457321173, 0.0843404651483544]\n",
      "TopicID 生成数据的频率：[0.14369946382083684, 0.08792648656103995, 0.08004758374566832, 0.02203334310294295, 0.07303070530834611, 0.11880419978276986, 0.1175628846783787, 0.020412737272210057, 0.028636449838801443, 0.0853576539144527, 0.018205954864403566, 0.07653052428322674, 0.013051049083668087, 0.11470096374325466]\n",
      "差的均值：0.006008413773363196\n",
      "QuestionID 原始数据的频率：[0.014999224178059755, 0.005603158457321173, 0.014999224178059755, 0.014999224178059755, 0.014999224178059755, 0.005603158457321173, 0.0009309863282933641, 0.0009309863282933641, 0.0009309863282933641, 0.0009309863282933641, 0.014999224178059755, 0.014999224178059755, 0.014999224178059755, 0.014999224178059755, 0.014999224178059755, 0.014999224178059755, 0.014999224178059755, 0.014999224178059755, 0.014999224178059755, 0.014999224178059755, 0.014999224178059755, 0.005603158457321173, 0.014999224178059755, 0.014999224178059755, 0.014999224178059755, 0.014999224178059755, 0.014999224178059755, 0.014999224178059755, 0.014999224178059755, 0.014999224178059755, 0.014999224178059755, 0.014999224178059755, 0.014999224178059755, 0.014999224178059755, 0.014999224178059755, 0.014999224178059755, 0.014999224178059755, 0.014999224178059755, 0.005603158457321173, 0.014999224178059755, 0.014999224178059755, 0.014999224178059755, 0.014999224178059755, 0.014999224178059755, 0.014999224178059755, 0.014999224178059755, 0.014999224178059755, 0.014999224178059755, 0.014999224178059755, 0.014999224178059755, 0.014999224178059755, 0.005603158457321173, 0.014999224178059755, 0.014999224178059755, 0.014999224178059755, 0.014999224178059755, 0.014999224178059755, 0.005603158457321173, 0.014999224178059755, 0.014999224178059755, 0.014999224178059755, 0.005603158457321173, 0.014999224178059755, 0.007499612089029877, 0.007499612089029877, 0.0009482268158543523, 0.014999224178059755, 0.005603158457321173, 0.014999224178059755, 0.005603158457321173, 0.014999224178059755, 0.014999224178059755, 0.005603158457321173, 0.014999224178059755, 0.014999224178059755, 0.014999224178059755, 0.005603158457321173, 0.014999224178059755, 0.014999224178059755, 0.0009309863282933641, 0.0009309863282933641, 0.0009482268158543523, 0.0009309863282933641]\n",
      "QuestionID 生成数据的频率：[0.008516800855128183, 0.006741030636346396, 0.015188869541230625, 0.017550816337086012, 0.009965001810251194, 0.006723790148785408, 0.008792648656103994, 0.007137561850249125, 0.01534403392927952, 0.05849697429443305, 0.009499508646104512, 0.010085685223178112, 0.009120217919762771, 0.012447632019033499, 0.012068341292691758, 0.009361584745616606, 0.009758115959519335, 0.011723531541471993, 0.009154698894884747, 0.010723583262934676, 0.015102667103425685, 0.005396272606589314, 0.011740772029032981, 0.010171887660983052, 0.008378876954640277, 0.008723686705860042, 0.020412737272210057, 0.010809785700739616, 0.008085788666103478, 0.010327052049031947, 0.014257883212937262, 0.0101029257107391, 0.011085633501715429, 0.00913745840732376, 0.011447683740496182, 0.007999586228298536, 0.013671706635863663, 0.010240849611227006, 0.006844473561712325, 0.013137251521473027, 0.008447838904884231, 0.011240797889764323, 0.011189076427081357, 0.0092236608451287, 0.010327052049031947, 0.00932710377049463, 0.01096495008878851, 0.010723583262934676, 0.009430546695860558, 0.006861714049273313, 0.010171887660983052, 0.00670654966122442, 0.010361533024153923, 0.010016723272934158, 0.009016774994396841, 0.01922314363050187, 0.025964174266848265, 0.0068789545368343015, 0.011585607640984086, 0.010637380825129735, 0.006189335034394772, 0.007534093064151854, 0.011051152526593453, 0.00874092719342103, 0.016361222695377826, 0.012757960795131286, 0.010085685223178112, 0.006465182835370584, 0.010378773511714911, 0.007482371601468889, 0.0169818802475734, 0.015309552954157543, 0.011982138854886816, 0.00960295157147044, 0.010620140337568746, 0.013430339810009828, 0.006327258934882679, 0.010602899850007758, 0.012585555919521403, 0.014792338327327896, 0.010999431063910487, 0.062945020085168, 0.01299932762098512]\n",
      "差的均值：0.032304842469833936\n",
      "DataValueTypeID 原始数据的频率：[0.03749806044514939, 0.41997827698567314, 0.0009309863282933641, 0.4825612468320604, 0.03749806044514939, 0.014999224178059755, 0.0009482268158543523, 0.0027929589848800923, 0.0027929589848800923]\n",
      "DataValueTypeID 生成数据的频率：[0.05039394514076858, 0.34574073754805784, 0.026102098167336173, 0.41142699515542297, 0.04520455838491112, 0.02817095667465476, 0.023947037222212645, 0.033067255141975414, 0.035946416564660445]\n",
      "差的均值：0.09836272836462483\n",
      "StratificationCategoryID1 原始数据的频率：[0.23516025033187937, 0.13642397807009982, 0.6284157715980208]\n",
      "StratificationCategoryID1 生成数据的频率：[0.18883506025550403, 0.28396807061703705, 0.5271968691274589]\n",
      "差的均值：0.05594107201351654\n",
      "StratificationID1 原始数据的频率：[0.12568315431960417, 0.11758012516593969, 0.11758012516593969, 0.12568315431960417, 0.12568315431960417, 0.12568315431960417, 0.13642397807009982, 0.12568315431960417]\n",
      "StratificationID1 生成数据的频率：[0.09702946399324174, 0.09578814888885058, 0.09227108942640898, 0.09951209420202403, 0.0872541075461614, 0.08590934951640432, 0.360188266124166, 0.08204748030274296]\n",
      "------------平均差的均值：0.03323176193596767------------\n",
      "----------错误率: 62.38%, 错误数量: 36183----------\n",
      "| 列比例差异均值  | fidelity Column | fidelity row  |    错误分类率 |   错误数量 |\n",
      " |------ |------ |------ |------ |-------------- |\n",
      "| 0.0332 | 0.8421 | 0.6999 | 0.6238 | 36183 |\n"
     ]
    }
   ],
   "source": [
    "evaluation(data_pd, synthetic_data, result_path)"
   ]
  },
  {
   "cell_type": "code",
   "execution_count": 12,
   "id": "cdb176d20874aefe",
   "metadata": {},
   "outputs": [],
   "source": [
    "#-------------------------------------------------TVAE Synthesizer-----------------------------------------------------------#\n",
    "result_path = 'TVAE/'\n",
    "os.makedirs(result_path, exist_ok=True)\n",
    "from sdv.single_table import TVAESynthesizer\n",
    "synthesizer = TVAESynthesizer(metadata, epochs=1)\n",
    "\n",
    "synthesizer.fit(data_pd)\n",
    "synthetic_data = synthesizer.sample(num_rows=data_pd.shape[0])\n",
    "synthetic_data.to_csv('TVAE/samples.csv', index=False)\n"
   ]
  },
  {
   "cell_type": "code",
   "execution_count": 13,
   "id": "a631a0d59df76c0d",
   "metadata": {},
   "outputs": [
    {
     "name": "stdout",
     "output_type": "stream",
     "text": [
      "Generating report ...\n",
      "\n",
      "(1/2) Evaluating Column Shapes: |███████████████████████████████████████████████████████| 8/8 [00:00<00:00, 61.30it/s]|\n",
      "Column Shapes Score: 65.5%\n",
      "\n",
      "(2/2) Evaluating Column Pair Trends: |████████████████████████████████████████████████| 28/28 [00:01<00:00, 21.29it/s]|\n",
      "Column Pair Trends Score: 40.94%\n",
      "\n",
      "Overall Score (Average): 53.22%\n",
      "\n",
      "<sdmetrics.reports.single_table.quality_report.QualityReport object at 0x0000021A02B74F90>\n",
      "Column Shapes: 0.6550329293312416\n",
      "Column Pair Trends: 0.40944618628100515\n"
     ]
    },
    {
     "data": {
      "text/html": [
       "<iframe\n",
       "    scrolling=\"no\"\n",
       "    width=\"100%\"\n",
       "    height=\"545px\"\n",
       "    src=\"iframe_figures/figure_13.html\"\n",
       "    frameborder=\"0\"\n",
       "    allowfullscreen\n",
       "></iframe>\n"
      ]
     },
     "metadata": {},
     "output_type": "display_data"
    },
    {
     "data": {
      "text/html": [
       "<iframe\n",
       "    scrolling=\"no\"\n",
       "    width=\"920px\"\n",
       "    height=\"920\"\n",
       "    src=\"iframe_figures/figure_13.html\"\n",
       "    frameborder=\"0\"\n",
       "    allowfullscreen\n",
       "></iframe>\n"
      ]
     },
     "metadata": {},
     "output_type": "display_data"
    },
    {
     "name": "stdout",
     "output_type": "stream",
     "text": [
      "差的均值：0.0\n",
      "YearStart 原始数据的频率：[1.0]\n",
      "YearStart 生成数据的频率：[1.0]\n",
      "差的均值：0.9990517731841456\n",
      "DataSource 原始数据的频率：[0.0009482268158543523, 0.0027929589848800923, 0.9915866420702377, 0.0009482268158543523, 0.0009309863282933641, 0.0027929589848800923]\n",
      "DataSource 生成数据的频率：[1.0]\n",
      "差的均值：0.02032266452087102\n",
      "LocationID 原始数据的频率：[0.018395600227574437, 0.018395600227574437, 0.018395600227574437, 0.018395600227574437, 0.018395600227574437, 0.018395600227574437, 0.018395600227574437, 0.018395600227574437, 0.018395600227574437, 0.018395600227574437, 0.018395600227574437, 0.018395600227574437, 0.018395600227574437, 0.018395600227574437, 0.018395600227574437, 0.018395600227574437, 0.018395600227574437, 0.018395600227574437, 0.018395600227574437, 0.018395600227574437, 0.018395600227574437, 0.018395600227574437, 0.018395600227574437, 0.018395600227574437, 0.018395600227574437, 0.018395600227574437, 0.018395600227574437, 0.018395600227574437, 0.018395600227574437, 0.018395600227574437, 0.018395600227574437, 0.018395600227574437, 0.018395600227574437, 0.018395600227574437, 0.018395600227574437, 0.018395600227574437, 0.018395600227574437, 0.018395600227574437, 0.018395600227574437, 0.018395600227574437, 0.018395600227574437, 0.018395600227574437, 0.018395600227574437, 0.018395600227574437, 0.018395600227574437, 0.018395600227574437, 0.018395600227574437, 0.018395600227574437, 0.018395600227574437, 0.018395600227574437, 0.018395600227574437, 0.006637587710980467, 0.018395600227574437, 0.018395600227574437, 0.018395600227574437]\n",
      "LocationID 生成数据的频率：[3.4480975121976447e-05, 5.172146268296468e-05, 0.0003275692636587763, 0.0012757960795131286, 0.0031205282485388688, 0.007809940865127666, 0.01299932762098512, 0.0202058514214782, 0.027464096684654243, 0.030153612744168404, 0.030929434684412876, 0.027515818147337206, 0.022878126993431374, 0.016912918297329448, 0.012895884695619192, 0.010930469113666534, 0.009637432546592418, 0.007430650138785925, 0.005844525283175008, 0.004741134079271762, 0.003827388238539386, 0.0025860731341482337, 0.0022585038704894572, 0.001758529731220799, 0.0013964794924400462, 0.001379239004879058, 0.0015516438804889401, 0.002534351671465269, 0.003775666775856421, 0.005120424805613503, 0.006620347223419479, 0.006620347223419479, 0.006654828198541455, 0.009499508646104512, 0.017533575849525026, 0.03727393410685654, 0.06873782390566005, 0.09821905763494991, 0.1169767081013051, 0.11894212368325777, 0.09975346102787787, 0.0661689912590728, 0.03911866627588228, 0.018809371929038154, 0.007068599900005172, 0.001982656069513646, 0.0005861765770735996, 6.896195024395289e-05, 1.7240487560988223e-05]\n",
      "差的均值：0.327994529018614\n",
      "TopicID 原始数据的频率：[0.07492715894005482, 0.14999224178059756, 0.08059927934761996, 0.014999224178059755, 0.08999534506835853, 0.12559695188179923, 0.18559384859403824, 0.014999224178059755, 0.020602382635380927, 0.08059927934761996, 0.0009482268158543523, 0.07120321362688137, 0.005603158457321173, 0.0843404651483544]\n",
      "TopicID 生成数据的频率：[0.09740875471958348, 0.0052411082185404205, 0.8973501370618762]\n",
      "差的均值：0.022441837104132903\n",
      "QuestionID 原始数据的频率：[0.014999224178059755, 0.005603158457321173, 0.014999224178059755, 0.014999224178059755, 0.014999224178059755, 0.005603158457321173, 0.0009309863282933641, 0.0009309863282933641, 0.0009309863282933641, 0.0009309863282933641, 0.014999224178059755, 0.014999224178059755, 0.014999224178059755, 0.014999224178059755, 0.014999224178059755, 0.014999224178059755, 0.014999224178059755, 0.014999224178059755, 0.014999224178059755, 0.014999224178059755, 0.014999224178059755, 0.005603158457321173, 0.014999224178059755, 0.014999224178059755, 0.014999224178059755, 0.014999224178059755, 0.014999224178059755, 0.014999224178059755, 0.014999224178059755, 0.014999224178059755, 0.014999224178059755, 0.014999224178059755, 0.014999224178059755, 0.014999224178059755, 0.014999224178059755, 0.014999224178059755, 0.014999224178059755, 0.014999224178059755, 0.005603158457321173, 0.014999224178059755, 0.014999224178059755, 0.014999224178059755, 0.014999224178059755, 0.014999224178059755, 0.014999224178059755, 0.014999224178059755, 0.014999224178059755, 0.014999224178059755, 0.014999224178059755, 0.014999224178059755, 0.014999224178059755, 0.005603158457321173, 0.014999224178059755, 0.014999224178059755, 0.014999224178059755, 0.014999224178059755, 0.014999224178059755, 0.005603158457321173, 0.014999224178059755, 0.014999224178059755, 0.014999224178059755, 0.005603158457321173, 0.014999224178059755, 0.007499612089029877, 0.007499612089029877, 0.0009482268158543523, 0.014999224178059755, 0.005603158457321173, 0.014999224178059755, 0.005603158457321173, 0.014999224178059755, 0.014999224178059755, 0.005603158457321173, 0.014999224178059755, 0.014999224178059755, 0.014999224178059755, 0.005603158457321173, 0.014999224178059755, 0.014999224178059755, 0.0009309863282933641, 0.0009309863282933641, 0.0009482268158543523, 0.0009309863282933641]\n",
      "QuestionID 生成数据的频率：[0.000999948278537317, 0.0011206316914642346, 0.00018964536317087047, 0.11480440666862059, 0.04329086426564143, 0.001603365343171905, 1.7240487560988223e-05, 0.010947709601227523, 0.0014482009551230108, 5.172146268296468e-05, 0.0012068341292691758, 0.027084805958312502, 0.033067255141975414, 5.172146268296468e-05, 0.0002930882885367998, 0.13933762046790682, 0.0014999224178059755, 8.620243780494113e-05, 0.0030515662982949156, 0.0005689360895126114, 0.003379135561953692, 0.008878851093908936, 0.010068444735617124, 0.10859783114666482, 0.0003275692636587763, 0.011533886178301122, 0.006465182835370584, 5.172146268296468e-05, 0.00015516438804889402, 0.003965312139027292, 0.1516990500491354, 0.0547557884936986, 0.016085374894402014, 0.040084133579297625, 0.001999896557074634, 0.0030170853231729394, 0.006844473561712325, 0.0004310121890247056, 1.7240487560988223e-05, 0.00018964536317087047, 0.0012930365670741168, 0.023878075271968693, 0.0026033136217092218, 1.7240487560988223e-05, 0.0017930107063427753, 0.018981776804648035, 0.1387859248659552, 0.0007068599900005172, 0.002672275571953175]\n",
      "差的均值：0.2712618312845887\n",
      "DataValueTypeID 原始数据的频率：[0.03749806044514939, 0.41997827698567314, 0.0009309863282933641, 0.4825612468320604, 0.03749806044514939, 0.014999224178059755, 0.0009482268158543523, 0.0027929589848800923, 0.0027929589848800923]\n",
      "DataValueTypeID 生成数据的频率：[0.4008758167680982, 0.5991241832319018]\n",
      "差的均值：0.7648397496681206\n",
      "StratificationCategoryID1 原始数据的频率：[0.23516025033187937, 0.13642397807009982, 0.6284157715980208]\n",
      "StratificationCategoryID1 生成数据的频率：[1.0]\n",
      "差的均值：0.1068177508059928\n",
      "StratificationID1 原始数据的频率：[0.12568315431960417, 0.11758012516593969, 0.11758012516593969, 0.12568315431960417, 0.12568315431960417, 0.12568315431960417, 0.13642397807009982, 0.12568315431960417]\n",
      "StratificationID1 生成数据的频率：[0.17056014344085652, 0.004361843352930021, 0.006396220885126631, 0.4697343240866852, 0.009309863282933642, 0.16402599865524198, 0.1291140113442408, 0.046497594951985244]\n",
      "------------平均差的均值：0.3140912669483082------------\n",
      "----------错误率: 13.99%, 错误数量: 8113----------\n",
      "| 列比例差异均值  | fidelity Column | fidelity row  |    错误分类率 |   错误数量 |\n",
      " |------ |------ |------ |------ |-------------- |\n",
      "| 0.3141 | 0.6550 | 0.4094 | 0.1399 | 8113 |\n"
     ]
    }
   ],
   "source": [
    "evaluation(data_pd, synthetic_data, result_path)"
   ]
  },
  {
   "cell_type": "code",
   "execution_count": 14,
   "id": "e7362b4aaea1f5f3",
   "metadata": {},
   "outputs": [],
   "source": [
    "#-------------------------------------------------只有生成数据的结果 ：NIM----------------------------------------------------------#\n",
    "# result_path = 'NIM/'\n",
    "# synthetic_data = pd.read_csv('NIM/samples.csv')\n",
    "# # fidelity evaluation\n",
    "# from SVDevaluation import svd_evaluation\n",
    "# Column_Shapes, Column_Pair_Trends = svd_evaluation(real_data=data_pd, synthetic_data=synthetic_data, savepath=result_path + 'svd_evaluation', show=True)\n"
   ]
  },
  {
   "cell_type": "code",
   "execution_count": 15,
   "id": "6e0e92e5-5daf-4e04-ba02-00a35a3f25b7",
   "metadata": {},
   "outputs": [],
   "source": [
    "#-------------------------------------------------Our-----------------------------------------------------------#\n",
    "# result_path = 'Our/'\n",
    "# synthetic_data = pd.read_csv('Our/samples.csv')\n",
    "# # fidelity evaluation\n",
    "# from SVDevaluation import svd_evaluation\n",
    "# Column_Shapes, Column_Pair_Trends = svd_evaluation(real_data=data_pd, synthetic_data=synthetic_data, savepath=result_path + 'svd_evaluation', show=True)\n"
   ]
  }
 ],
 "metadata": {
  "kernelspec": {
   "display_name": "Python 3 (ipykernel)",
   "language": "python",
   "name": "python3"
  },
  "language_info": {
   "codemirror_mode": {
    "name": "ipython",
    "version": 3
   },
   "file_extension": ".py",
   "mimetype": "text/x-python",
   "name": "python",
   "nbconvert_exporter": "python",
   "pygments_lexer": "ipython3",
   "version": "3.11.9"
  }
 },
 "nbformat": 4,
 "nbformat_minor": 5
}
