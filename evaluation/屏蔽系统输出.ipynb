{
 "cells": [
  {
   "cell_type": "code",
   "execution_count": null,
   "id": "initial_id",
   "metadata": {
    "collapsed": true
   },
   "outputs": [],
   "source": [
    "import sys  \n",
    "import io  \n",
    "from contextlib import redirect_stdout, redirect_stderr  \n",
    "from tqdm import tqdm  \n",
    "\n",
    "# 创建一个StringIO对象来捕获输出  \n",
    "f_out = io.StringIO()  \n",
    "f_err = io.StringIO()  \n",
    "\n",
    "# 同时重定向stdout和stderr  \n",
    "with redirect_stdout(f_out), redirect_stderr(f_err):  \n",
    "    with tqdm(total=100) as pbar:  \n",
    "        for i in range(100):  \n",
    "           # ... 你的代码 ...  \n",
    "           pbar.update()  \n",
    "\n",
    "# 检查是否有任何输出被捕获到  \n",
    "print(\"Captured output:\", f_out.getvalue())  \n",
    "print(\"Captured errors:\", f_err.getvalue())"
   ]
  }
 ],
 "metadata": {
  "kernelspec": {
   "display_name": "Python 3",
   "language": "python",
   "name": "python3"
  },
  "language_info": {
   "codemirror_mode": {
    "name": "ipython",
    "version": 2
   },
   "file_extension": ".py",
   "mimetype": "text/x-python",
   "name": "python",
   "nbconvert_exporter": "python",
   "pygments_lexer": "ipython2",
   "version": "2.7.6"
  }
 },
 "nbformat": 4,
 "nbformat_minor": 5
}
