{
 "cells": [
  {
   "cell_type": "code",
   "execution_count": 1,
   "id": "initial_id",
   "metadata": {
    "collapsed": true,
    "ExecuteTime": {
     "end_time": "2024-03-23T19:45:11.666298Z",
     "start_time": "2024-03-23T19:45:08.630043Z"
    }
   },
   "outputs": [
    {
     "name": "stdout",
     "output_type": "stream",
     "text": [
      "内存大小（GB）： 15.63\n",
      "CPU型号： Intel64 Family 6 Model 183 Stepping 1, GenuineIntel\n",
      "cuda version:12.1, cudnn version:8801\n",
      "torch version: 2.1.1+cu121\n",
      "cuda是否可用：True\n",
      "cuda设备数量：1\n",
      "cuda当前设备：0\n",
      "cuda设备型号：NVIDIA GeForce RTX 4060 Laptop GPU\n",
      "显卡型号和显存大小： Sun Mar 24 03:45:11 2024       \r\n",
      "+---------------------------------------------------------------------------------------+\r\n",
      "| NVIDIA-SMI 546.24                 Driver Version: 546.24       CUDA Version: 12.3     |\r\n",
      "|-----------------------------------------+----------------------+----------------------+\r\n",
      "| GPU  Name                     TCC/WDDM  | Bus-Id        Disp.A | Volatile Uncorr. ECC |\r\n",
      "| Fan  Temp   Perf          Pwr:Usage/Cap |         Memory-Usage | GPU-Util  Compute M. |\r\n",
      "|                                         |                      |               MIG M. |\r\n",
      "|=========================================+======================+======================|\r\n",
      "|   0  NVIDIA GeForce RTX 4060 ...  WDDM  | 00000000:01:00.0 Off |                  N/A |\r\n",
      "| N/A   50C    P0              18W / 113W |      0MiB /  8188MiB |      0%      Default |\r\n",
      "|                                         |                      |                  N/A |\r\n",
      "+-----------------------------------------+----------------------+----------------------+\r\n",
      "                                                                                         \r\n",
      "+---------------------------------------------------------------------------------------+\r\n",
      "| Processes:                                                                            |\r\n",
      "|  GPU   GI   CI        PID   Type   Process name                            GPU Memory |\r\n",
      "|        ID   ID                                                             Usage      |\r\n",
      "|=======================================================================================|\r\n",
      "|  No running processes found                                                           |\r\n",
      "+---------------------------------------------------------------------------------------+\n"
     ]
    }
   ],
   "source": [
    "### 导入包和版本查询\n",
    "import psutil  \n",
    "import platform  \n",
    "import subprocess  \n",
    "print(\"内存大小（GB）：\", round(psutil.virtual_memory().total / (1024 ** 3), 2)) # 查看内存大小  \n",
    "print(\"CPU型号：\", platform.processor()) # 查看CPU型号  \n",
    "import torch  \n",
    "# import torchvision  \n",
    "print(\"cuda version:{}, cudnn version:{}\".format(torch.version.cuda, torch.backends.cudnn.version()))  \n",
    "print(\"torch version: {}\".format(torch.__version__))  \n",
    "# print(\"torchvision version: {}\".format(torchvision.__version__))  \n",
    "# !cat /proc/meminfo # terminal 中查看 RAM大小  \n",
    "print(f\"cuda是否可用：{torch.cuda.is_available()}\")  \n",
    "print(f\"cuda设备数量：{torch.cuda.device_count()}\")  \n",
    "print(f\"cuda当前设备：{torch.cuda.current_device()}\")  \n",
    "print(f\"cuda设备型号：{torch.cuda.get_device_name(0)}\")  \n",
    "cmd = 'nvidia-smi'  \n",
    "gpu_info = subprocess.check_output(cmd, shell=True).decode('utf-8').strip() # 查看显卡型号和显存大小  \n",
    "print(\"显卡型号和显存大小：\", gpu_info)"
   ]
  }
 ],
 "metadata": {
  "kernelspec": {
   "display_name": "Python 3",
   "language": "python",
   "name": "python3"
  },
  "language_info": {
   "codemirror_mode": {
    "name": "ipython",
    "version": 2
   },
   "file_extension": ".py",
   "mimetype": "text/x-python",
   "name": "python",
   "nbconvert_exporter": "python",
   "pygments_lexer": "ipython2",
   "version": "2.7.6"
  }
 },
 "nbformat": 4,
 "nbformat_minor": 5
}
